{
 "cells": [
  {
   "cell_type": "code",
   "execution_count": 2,
   "id": "3da72e1a",
   "metadata": {},
   "outputs": [],
   "source": [
    "\n",
    "import snscrape.modules.twitter as sntwitter\n",
    "import pandas as pd\n",
    "import time\n",
    "import glob\n",
    "import os\n",
    "import time\n",
    "import datetime"
   ]
  },
  {
   "cell_type": "code",
   "execution_count": 3,
   "id": "eb287c05-1849-442d-bec3-a92f702f315e",
   "metadata": {},
   "outputs": [],
   "source": [
    "#!pip3 install snscrape\n",
    "#!pip install pyarrow\n",
    "#!pip install fastparquet"
   ]
  },
  {
   "cell_type": "code",
   "execution_count": 4,
   "id": "14f23847-dd76-4132-ae03-647bcc9d8bc1",
   "metadata": {},
   "outputs": [],
   "source": [
    "\n",
    "#to get the current working directory\n",
    "# directory = os.getcwd()\n",
    "\n",
    "# print(directory)\n",
    "# for name in glob.glob(r'{}\\data_minutos_dataframe_shifts_*.parquet'.format(directory)):\n",
    "#     print(name)\n",
    "#     pd.read_parquet(name)"
   ]
  },
  {
   "cell_type": "code",
   "execution_count": 5,
   "id": "fae535d1",
   "metadata": {},
   "outputs": [],
   "source": [
    "#pip3 install git+https://github.com/JustAnotherArchivist/snscrape.git"
   ]
  },
  {
   "cell_type": "code",
   "execution_count": 6,
   "id": "774cc6df",
   "metadata": {},
   "outputs": [],
   "source": [
    "# Likes: tweet.likeCount\n",
    "# Retweets: tweet.retweetCount\n",
    "# Replies: tweet.replyCount\n",
    "# Quotes: tweet.quoteCount\n",
    "#  or sntwitter.TwitterSearchScraper('#doge since:2021-01-31 until:2021-12-20').get_items()\n",
    "#2021-12-20"
   ]
  },
  {
   "cell_type": "code",
   "execution_count": 7,
   "id": "249e6f43",
   "metadata": {
    "tags": []
   },
   "outputs": [],
   "source": [
    "def GetTweets(quantityToAnalize, minimunLikeCount,sinceDate,untilDate):\n",
    "\n",
    "#Este código demora 4.25 segundos para scrappear 2000 tweets\n",
    "# lista donde se guardaran los tweets y su info\n",
    "    tweets_list= []\n",
    "    t0 = time.time()\n",
    "# Scrapeando los tweets que contengan #doge o que contengan #dogecoin, con since y until se le indica el período.\n",
    "    for i,tweet in enumerate(sntwitter.TwitterSearchScraper('#dogecoin since:{since} until:{until}'.format(since = sinceDate, until=untilDate)).get_items()or sntwitter.TwitterSearchScraper('#doge since:2021-01-31 until:2021-12-20').get_items()):\n",
    "        if i>quantityToAnalize:\n",
    "            break\n",
    "        if tweet.likeCount > minimunLikeCount:\n",
    "            tweets_list.append([tweet.date, tweet.id, tweet.content, tweet.user.username, tweet.likeCount, tweet.retweetCount, tweet.replyCount, tweet.quoteCount ])\n",
    "\n",
    "    t1=time.time()\n",
    "    print(\"time elapsed: {:.1f} min\".format((t1-t0)/60))\n",
    "    result_dataframe = pd.DataFrame(tweets_list, columns=['Datetime', 'Tweet Id', 'Text', 'Username', 'Likes','Retweet','Reply','Quote'])\n",
    "    return result_dataframe"
   ]
  },
  {
   "cell_type": "code",
   "execution_count": 8,
   "id": "4a73f1e9-6e65-4856-b0bf-4e2817920756",
   "metadata": {},
   "outputs": [],
   "source": [
    "# date_datetime= pd.to_datetime(dataframe[\"Datetime\"].iloc[1])\n",
    "# date_datetime_end=pd.to_datetime(dataframe[\"Datetime\"].iloc[-1])\n",
    "# fecha_inicial = \"{year}-{month}-{day}\".format(year =date_datetime.year,month=date_datetime.month,day=date_datetime.day)  \n",
    "# fecha_final = \"{year}-{month}-{day}\".format(year =date_datetime_end.year,month=date_datetime_end.month,day=date_datetime_end.day)  "
   ]
  },
  {
   "cell_type": "code",
   "execution_count": 9,
   "id": "98fc7ed3-3a6c-47d7-ab18-8a219a8415a9",
   "metadata": {},
   "outputs": [],
   "source": [
    "#Este código no funciona como yo espero. Entonces voy a dividir la funcionalidad en dos\n",
    "\n",
    "# def BreakOutScrape(totalQuantityToAnalize, blocks):\n",
    "#     round_partition = round(totalQuantityToAnalize / blocks)\n",
    "   \n",
    "#     for i in range(blocks):\n",
    "#         #t0 = time.time()\n",
    "#         if i == 0:   \n",
    "#             dataframe = GetTweets(round_partition,10,'2021-01-01','2021-12-20')\n",
    "#             fecha_mayor_datetime=pd.to_datetime(dataframe[\"Datetime\"].iloc[-1])\n",
    "#             fecha_mayor = \"{year}-{month}-{day}\".format(year =fecha_mayor_datetime.year,month=fecha_mayor_datetime.month,day=fecha_mayor_datetime.day)  \n",
    "#             dataframe.to_parquet(\"new_scraped_tweets_{numero}.parquet\".format(numero=i))\n",
    "        \n",
    "#         else:\n",
    "#             directory = os.getcwd()\n",
    "#             for name in glob.glob(r'{}\\new_scraped_tweets_*.parquet'.format(directory)):\n",
    "               \n",
    "#                 dataframe_actual = pd.read_parquet(name)\n",
    "#                 fecha_actual_datetime = pd.to_datetime(dataframe_actual[\"Datetime\"].iloc[-1])\n",
    "#                 fecha_actual = \"{year}-{month}-{day}\".format(year =fecha_actual_datetime.year,month=fecha_actual_datetime.month,day=fecha_actual_datetime.day)\n",
    "#                 print(name)\n",
    "#                 if(fecha_actual > fecha_mayor):\n",
    "#                     fecha_mayor = fecha_actual\n",
    "                    \n",
    "#             dataframe = GetTweets(round_partition,10,fecha_mayor,'2021-12-20')\n",
    "#             return dataframe.to_parquet(\"new_scraped_tweets_{numero}.parquet\".format(numero=i))\n",
    "           # t1=time.time()\n",
    "            \n",
    "    "
   ]
  },
  {
   "cell_type": "markdown",
   "id": "3b97668e-24fa-4668-ab40-56626a07293c",
   "metadata": {},
   "source": [
    "Bien, la libreria comienza a buscar tweets del mas nuevo al mas viejo. Por eso nunca se llega a la fecha menor de la busqueda."
   ]
  },
  {
   "cell_type": "code",
   "execution_count": 10,
   "id": "8e8666d4-c467-482d-8a0b-8c4f5385e3a4",
   "metadata": {},
   "outputs": [],
   "source": [
    "#Aca voy a hacer una segunda función que va a tomar lo que haya scrapeado y va a reanudar el scrapeo \n",
    "#Erroneamente crei que el scrapeo comienza de la fecha más antigua a la actualidad pero parece ser que se da en el orden inverso\n",
    "#Que el paginado lista de la más actual a lo más antiguo. Por lo tanto para reanudar debería tomar la fecha menor y no la mayor\n",
    "\n",
    "def GetMinDate(dataframe_actual):\n",
    "        fecha_menor = pd.to_datetime(dataframe_actual[\"Datetime\"].iloc[-1])+datetime.timedelta(days=1) #Se agrega un dia a la fecha menor para solapar los dfs y no perder info\n",
    "        fecha_menor = \"{year}-{month}-{day}\".format(year =fecha_menor.year,month=fecha_menor.month,day=fecha_menor.day)\n",
    "        \n",
    "#         for i,row in dataframe_actual.iterrows():\n",
    "#             fecha_actual_datetime = pd.to_datetime(row[0])\n",
    "#             fecha_actual = \"{year}-{month}-{day}\".format(year =fecha_actual_datetime.year,month=fecha_actual_datetime.month,day=fecha_actual_datetime.day)\n",
    "        \n",
    "#             if(fecha_actual > fecha_menor):E\n",
    "#                 fecha_menor = fecha_actual\n",
    "        return fecha_menor \n",
    "            "
   ]
  },
  {
   "cell_type": "code",
   "execution_count": 11,
   "id": "000ac207-08cb-41f7-8dc4-b40b9ada3124",
   "metadata": {},
   "outputs": [],
   "source": [
    "#Esta función va a dividir la cantidad de tweets a scrapear en bloques. \n",
    "def BreakOutScrape(totalQuantityToAnalize, blocks):\n",
    "    round_partition = round(totalQuantityToAnalize / blocks)\n",
    "   \n",
    "    for i in range(blocks):\n",
    "        #t0 = time.time()\n",
    "        if i == 0:   \n",
    "            dataframe = GetTweets(round_partition,100,'2021-01-01','2021-12-20')\n",
    "            #Funcion para buscar la fecha MENOR del dataframe\n",
    "            #fecha_mayor_datetime=pd.to_datetime(dataframe[\"Datetime\"].iloc[-1])\n",
    "            #fecha_mayor = \"{year}-{month}-{day}\".format(year =fecha_mayor_datetime.year,month=fecha_mayor_datetime.month,day=fecha_mayor_datetime.day)  \n",
    "            dataframe.to_parquet(\"new_scraped_tweets_{numero}.parquet\".format(numero=i))\n",
    "            fecha_menor = GetMinDate(dataframe)\n",
    "            print(fecha_menor)\n",
    "        \n",
    "        else:\n",
    "            \n",
    "            dataframe = GetTweets(round_partition,100,'2021-01-01',fecha_menor)\n",
    "            fecha_menor = GetMinDate(dataframe)\n",
    "            print(fecha_menor)\n",
    "            dataframe.to_parquet(\"new_scraped_tweets_{numero}.parquet\".format(numero=i))\n",
    "            print(\"Error raised\")\n",
    "                \n",
    "            #Funcion para buscar la fecha MENOR del dataframe\n",
    "           # t1=time.time()\n",
    "            \n",
    "    "
   ]
  },
  {
   "cell_type": "code",
   "execution_count": 12,
   "id": "09764da6-eba6-4238-84b8-1a97aec91047",
   "metadata": {},
   "outputs": [],
   "source": [
    "#Esta función va a dividir la cantidad de tweets a scrapear en bloques. \n",
    "def BreakOutScrapeV2(totalQuantityToAnalize, blocks):\n",
    "    round_partition = round(totalQuantityToAnalize / blocks)\n",
    "    count=0\n",
    "    while count<blocks:\n",
    "        #t0 = time.time()\n",
    "        if count == 0:\n",
    "            try:\n",
    "                dataframe = GetTweets(round_partition,100,'2021-01-01','2021-12-20')\n",
    "                #Funcion para buscar la fecha MENOR del dataframe\n",
    "                #fecha_mayor_datetime=pd.to_datetime(dataframe[\"Datetime\"].iloc[-1])\n",
    "                #fecha_mayor = \"{year}-{month}-{day}\".format(year =fecha_mayor_datetime.year,month=fecha_mayor_datetime.month,day=fecha_mayor_datetime.day)  \n",
    "                dataframe.to_parquet(\"new_scraped_tweets_{numero}.parquet\".format(count))\n",
    "                fecha_menor = GetMinDate(dataframe)\n",
    "                print(fecha_menor)\n",
    "                count+=1\n",
    "            except:\n",
    "                print(\"Error raised\")\n",
    "                time.sleep(300)\n",
    "                continue \n",
    "        \n",
    "        else:\n",
    "            try:\n",
    "                dataframe = GetTweets(round_partition,100,'2021-01-01',fecha_menor)\n",
    "                fecha_menor = GetMinDate(dataframe)\n",
    "                print(fecha_menor)\n",
    "                dataframe.to_parquet(\"new_scraped_tweets_{numero}.parquet\".format(count))\n",
    "                count+=1\n",
    "            except:\n",
    "                print(\"Error raised\")\n",
    "                continue \n",
    "            #Funcion para buscar la fecha MENOR del dataframe\n",
    "           # t1=time.time()\n",
    "            \n",
    "    "
   ]
  },
  {
   "cell_type": "code",
   "execution_count": 13,
   "id": "5ca6a8f8-48cb-44d3-a5ce-78b2f0c0ff28",
   "metadata": {},
   "outputs": [],
   "source": [
    "def GetMaxFileNumber():\n",
    "    import re\n",
    "    directory = os.getcwd()\n",
    "    numeracion=[]\n",
    "    for name in glob.glob(directory+r\"\\new_scraped_tweets_*.parquet\"):\n",
    "        txt = name\n",
    "        x = re.findall('[0-9]+', txt)\n",
    "        numeracion.append(int(x[0]))\n",
    "    numero_mayor = max(numeracion)\n",
    "    return numero_mayor"
   ]
  },
  {
   "cell_type": "code",
   "execution_count": 14,
   "id": "6f0c161f-9986-469c-9c59-037a5f62ddc3",
   "metadata": {},
   "outputs": [],
   "source": [
    "def ResumeScraping(dataframe_stacked,totalQuantityToAnalize,blocks):\n",
    "    round_partition = round(totalQuantityToAnalize / blocks)\n",
    "    \n",
    "    max_number = GetMaxFileNumber()\n",
    "    \n",
    "    for i in range(blocks):\n",
    "        if i==0:\n",
    "            fecha_menor = GetMinDate(dataframe_stacked)\n",
    "            dataframe = GetTweets(round_partition,100,'2021-01-01',fecha_menor)\n",
    "            fecha_menor = GetMinDate(dataframe)\n",
    "            print(fecha_menor)\n",
    "            number_for_name = i + max_number + 1\n",
    "            dataframe.to_parquet(\"new_scraped_tweets_{numero}.parquet\".format(numero=number_for_name))\n",
    "            \n",
    "        else:\n",
    "            number_for_name = i + max_number + 1\n",
    "            dataframe = GetTweets(round_partition,100,'2021-01-01',fecha_menor)\n",
    "            fecha_menor = GetMinDate(dataframe)\n",
    "            print(fecha_menor)\n",
    "            dataframe.to_parquet(\"new_scraped_tweets_{numero}.parquet\".format(numero=number_for_name))\n",
    "    return True"
   ]
  },
  {
   "cell_type": "code",
   "execution_count": 15,
   "id": "8d96a384-903d-48d2-a892-bc9b15195b78",
   "metadata": {},
   "outputs": [],
   "source": [
    "#Aca va la función que toma los archivos de BreakOutScrape y genera un solo dataframe sin duplicados. \n",
    "def StackDataframes(nombre_partron_de_archivos):\n",
    "    directory = os.getcwd()\n",
    "    lista_dfs=[]\n",
    "    for name in glob.glob(directory+nombre_partron_de_archivos):\n",
    "        print(name)\n",
    "        dataframe_actual = pd.read_parquet(name)\n",
    "        lista_dfs.append(dataframe_actual)\n",
    "        \n",
    "    dafatame_vertical_stack = pd.concat(lista_dfs, axis=0)\n",
    "    percentage = dafatame_vertical_stack.duplicated().sum()/len(dafatame_vertical_stack)\n",
    "    print(\"Percentage of duplicated rows:\",percentage)\n",
    "    print(len(dafatame_vertical_stack))\n",
    "    dafatame_vertical_stack_no_duplicated=dafatame_vertical_stack.drop_duplicates(subset=\"Tweet Id\")\n",
    "    print(len(dafatame_vertical_stack_no_duplicated))\n",
    "    return dafatame_vertical_stack_no_duplicated"
   ]
  },
  {
   "cell_type": "code",
   "execution_count": 16,
   "id": "9e3c5baf-291c-4fab-ac2c-d6d309f757a8",
   "metadata": {},
   "outputs": [],
   "source": [
    "#Aca va a haber una función para retomar el scrape cuando se corte por algun motivo BreakOutScrape. Para esto va a leer el dataframe de salida que genera este codigo, la fecha de inicio objetivo, las particiones y continuará scrapeando"
   ]
  },
  {
   "cell_type": "code",
   "execution_count": 17,
   "id": "8244ee08-4e1a-46db-96cf-3c19602281c3",
   "metadata": {},
   "outputs": [],
   "source": [
    "def EraseFiles(nombre_partron_de_archivos):\n",
    "    directory = os.getcwd()\n",
    "  \n",
    "    for name in glob.glob(directory+nombre_partron_de_archivos):\n",
    "          os.remove(name)\n",
    "        "
   ]
  },
  {
   "cell_type": "markdown",
   "id": "90e02a66-3e4a-423a-9e27-72accad49c5c",
   "metadata": {},
   "source": [
    "El argumento de la funcion de scraping de la libreria snscrape solo toma como parametro de fecha el formato yyyy-mm-dd por lo tanto no es posible cortar los datos a scrapear\n",
    "en bloque sin solapar los \"extremos\". Por esto le sumo un dia mas a la funcion porque sino hay datos que pierdo entonces prefiero ser redundante con los dias en los extremos\n",
    "de cada bloque y no perder informacion. Para los tests con 10.000 tweets a analizar en 4 bloques el solapamiento fue del 75%. Para 40.000 en 4 bloques fue de 27%. Entonces el solapamiento sera menor cuanto mayor sea la cantidad de tweets a analizar y menor la cantidad de bloques. Para 40.000 y 2 bloques el porcentaje fue de 0.9%. Hay que comprobar que el tamaño de bloque 20.000 arroje esos valores. Con 27% de solapamiento tardé 6 minutos por día. Con 0.9% de solapamiento tardé 4.5 minutos por d"
   ]
  },
  {
   "cell_type": "code",
   "execution_count": 18,
   "id": "64420ae3-a4c1-4c24-b535-c80581197cbd",
   "metadata": {},
   "outputs": [
    {
     "name": "stdout",
     "output_type": "stream",
     "text": [
      "time elapsed: 9.0 min\n",
      "2021-12-18\n"
     ]
    },
    {
     "name": "stderr",
     "output_type": "stream",
     "text": [
      "Error retrieving https://api.twitter.com/2/search/adaptive.json?include_profile_interstitial_type=1&include_blocking=1&include_blocked_by=1&include_followed_by=1&include_want_retweets=1&include_mute_edge=1&include_can_dm=1&include_can_media_tag=1&skip_status=1&cards_platform=Web-12&include_cards=1&include_ext_alt_text=true&include_quote_count=true&include_reply_count=1&tweet_mode=extended&include_entities=true&include_user_entities=true&include_ext_media_color=true&include_ext_media_availability=true&send_error_codes=true&simple_quoted_tweets=true&q=%23dogecoin+since%3A2021-01-01+until%3A2021-12-18&tweet_search_mode=live&count=100&query_source=spelling_expansion_revert_click&cursor=scroll%3AthGAVUV0VFVBaAwKqBsJ3w6ygWjIC94fCSye0oEnEV7J1zFYCJehgEVVNFUjUBFeYKFQAA&pc=1&spelling_corrections=1&ext=mediaStats%2ChighlightedLabel: ConnectTimeout(MaxRetryError(\"HTTPSConnectionPool(host='api.twitter.com', port=443): Max retries exceeded with url: /2/search/adaptive.json?include_profile_interstitial_type=1&include_blocking=1&include_blocked_by=1&include_followed_by=1&include_want_retweets=1&include_mute_edge=1&include_can_dm=1&include_can_media_tag=1&skip_status=1&cards_platform=Web-12&include_cards=1&include_ext_alt_text=true&include_quote_count=true&include_reply_count=1&tweet_mode=extended&include_entities=true&include_user_entities=true&include_ext_media_color=true&include_ext_media_availability=true&send_error_codes=true&simple_quoted_tweets=true&q=%23dogecoin+since%3A2021-01-01+until%3A2021-12-18&tweet_search_mode=live&count=100&query_source=spelling_expansion_revert_click&cursor=scroll%3AthGAVUV0VFVBaAwKqBsJ3w6ygWjIC94fCSye0oEnEV7J1zFYCJehgEVVNFUjUBFeYKFQAA&pc=1&spelling_corrections=1&ext=mediaStats%2ChighlightedLabel (Caused by ConnectTimeoutError(<urllib3.connection.HTTPSConnection object at 0x000001F38E037070>, 'Connection to api.twitter.com timed out. (connect timeout=10)'))\"))\n",
      "4 requests to https://api.twitter.com/2/search/adaptive.json?include_profile_interstitial_type=1&include_blocking=1&include_blocked_by=1&include_followed_by=1&include_want_retweets=1&include_mute_edge=1&include_can_dm=1&include_can_media_tag=1&skip_status=1&cards_platform=Web-12&include_cards=1&include_ext_alt_text=true&include_quote_count=true&include_reply_count=1&tweet_mode=extended&include_entities=true&include_user_entities=true&include_ext_media_color=true&include_ext_media_availability=true&send_error_codes=true&simple_quoted_tweets=true&q=%23dogecoin+since%3A2021-01-01+until%3A2021-12-18&tweet_search_mode=live&count=100&query_source=spelling_expansion_revert_click&cursor=scroll%3AthGAVUV0VFVBaAwKqBsJ3w6ygWjIC94fCSye0oEnEV7J1zFYCJehgEVVNFUjUBFeYKFQAA&pc=1&spelling_corrections=1&ext=mediaStats%2ChighlightedLabel failed, giving up.\n"
     ]
    },
    {
     "ename": "ScraperException",
     "evalue": "4 requests to https://api.twitter.com/2/search/adaptive.json?include_profile_interstitial_type=1&include_blocking=1&include_blocked_by=1&include_followed_by=1&include_want_retweets=1&include_mute_edge=1&include_can_dm=1&include_can_media_tag=1&skip_status=1&cards_platform=Web-12&include_cards=1&include_ext_alt_text=true&include_quote_count=true&include_reply_count=1&tweet_mode=extended&include_entities=true&include_user_entities=true&include_ext_media_color=true&include_ext_media_availability=true&send_error_codes=true&simple_quoted_tweets=true&q=%23dogecoin+since%3A2021-01-01+until%3A2021-12-18&tweet_search_mode=live&count=100&query_source=spelling_expansion_revert_click&cursor=scroll%3AthGAVUV0VFVBaAwKqBsJ3w6ygWjIC94fCSye0oEnEV7J1zFYCJehgEVVNFUjUBFeYKFQAA&pc=1&spelling_corrections=1&ext=mediaStats%2ChighlightedLabel failed, giving up.",
     "output_type": "error",
     "traceback": [
      "\u001b[1;31m---------------------------------------------------------------------------\u001b[0m",
      "\u001b[1;31mScraperException\u001b[0m                          Traceback (most recent call last)",
      "Input \u001b[1;32mIn [18]\u001b[0m, in \u001b[0;36m<cell line: 1>\u001b[1;34m()\u001b[0m\n\u001b[1;32m----> 1\u001b[0m \u001b[43mBreakOutScrape\u001b[49m\u001b[43m(\u001b[49m\u001b[38;5;241;43m80000\u001b[39;49m\u001b[43m,\u001b[49m\u001b[38;5;241;43m8\u001b[39;49m\u001b[43m)\u001b[49m\n",
      "Input \u001b[1;32mIn [11]\u001b[0m, in \u001b[0;36mBreakOutScrape\u001b[1;34m(totalQuantityToAnalize, blocks)\u001b[0m\n\u001b[0;32m     14\u001b[0m     \u001b[38;5;28mprint\u001b[39m(fecha_menor)\n\u001b[0;32m     16\u001b[0m \u001b[38;5;28;01melse\u001b[39;00m:\n\u001b[1;32m---> 18\u001b[0m     dataframe \u001b[38;5;241m=\u001b[39m \u001b[43mGetTweets\u001b[49m\u001b[43m(\u001b[49m\u001b[43mround_partition\u001b[49m\u001b[43m,\u001b[49m\u001b[38;5;241;43m100\u001b[39;49m\u001b[43m,\u001b[49m\u001b[38;5;124;43m'\u001b[39;49m\u001b[38;5;124;43m2021-01-01\u001b[39;49m\u001b[38;5;124;43m'\u001b[39;49m\u001b[43m,\u001b[49m\u001b[43mfecha_menor\u001b[49m\u001b[43m)\u001b[49m\n\u001b[0;32m     19\u001b[0m     fecha_menor \u001b[38;5;241m=\u001b[39m GetMinDate(dataframe)\n\u001b[0;32m     20\u001b[0m     \u001b[38;5;28mprint\u001b[39m(fecha_menor)\n",
      "Input \u001b[1;32mIn [7]\u001b[0m, in \u001b[0;36mGetTweets\u001b[1;34m(quantityToAnalize, minimunLikeCount, sinceDate, untilDate)\u001b[0m\n\u001b[0;32m      6\u001b[0m     t0 \u001b[38;5;241m=\u001b[39m time\u001b[38;5;241m.\u001b[39mtime()\n\u001b[0;32m      7\u001b[0m \u001b[38;5;66;03m# Scrapeando los tweets que contengan #doge o que contengan #dogecoin, con since y until se le indica el período.\u001b[39;00m\n\u001b[1;32m----> 8\u001b[0m     \u001b[38;5;28;01mfor\u001b[39;00m i,tweet \u001b[38;5;129;01min\u001b[39;00m \u001b[38;5;28menumerate\u001b[39m(sntwitter\u001b[38;5;241m.\u001b[39mTwitterSearchScraper(\u001b[38;5;124m'\u001b[39m\u001b[38;5;124m#dogecoin since:\u001b[39m\u001b[38;5;132;01m{since}\u001b[39;00m\u001b[38;5;124m until:\u001b[39m\u001b[38;5;132;01m{until}\u001b[39;00m\u001b[38;5;124m'\u001b[39m\u001b[38;5;241m.\u001b[39mformat(since \u001b[38;5;241m=\u001b[39m sinceDate, until\u001b[38;5;241m=\u001b[39muntilDate))\u001b[38;5;241m.\u001b[39mget_items()\u001b[38;5;129;01mor\u001b[39;00m sntwitter\u001b[38;5;241m.\u001b[39mTwitterSearchScraper(\u001b[38;5;124m'\u001b[39m\u001b[38;5;124m#doge since:2021-01-31 until:2021-12-20\u001b[39m\u001b[38;5;124m'\u001b[39m)\u001b[38;5;241m.\u001b[39mget_items()):\n\u001b[0;32m      9\u001b[0m         \u001b[38;5;28;01mif\u001b[39;00m i\u001b[38;5;241m>\u001b[39mquantityToAnalize:\n\u001b[0;32m     10\u001b[0m             \u001b[38;5;28;01mbreak\u001b[39;00m\n",
      "File \u001b[1;32m~\\anaconda3\\envs\\PythonML\\lib\\site-packages\\snscrape\\modules\\twitter.py:680\u001b[0m, in \u001b[0;36mTwitterSearchScraper.get_items\u001b[1;34m(self)\u001b[0m\n\u001b[0;32m    677\u001b[0m \t\u001b[38;5;28;01mdel\u001b[39;00m params[\u001b[38;5;124m'\u001b[39m\u001b[38;5;124mtweet_search_mode\u001b[39m\u001b[38;5;124m'\u001b[39m]\n\u001b[0;32m    678\u001b[0m \t\u001b[38;5;28;01mdel\u001b[39;00m paginationParams[\u001b[38;5;124m'\u001b[39m\u001b[38;5;124mtweet_search_mode\u001b[39m\u001b[38;5;124m'\u001b[39m]\n\u001b[1;32m--> 680\u001b[0m \u001b[38;5;28;01mfor\u001b[39;00m obj \u001b[38;5;129;01min\u001b[39;00m \u001b[38;5;28mself\u001b[39m\u001b[38;5;241m.\u001b[39m_iter_api_data(\u001b[38;5;124m'\u001b[39m\u001b[38;5;124mhttps://api.twitter.com/2/search/adaptive.json\u001b[39m\u001b[38;5;124m'\u001b[39m, params, paginationParams, cursor \u001b[38;5;241m=\u001b[39m \u001b[38;5;28mself\u001b[39m\u001b[38;5;241m.\u001b[39m_cursor):\n\u001b[0;32m    681\u001b[0m \t\u001b[38;5;28;01myield from\u001b[39;00m \u001b[38;5;28mself\u001b[39m\u001b[38;5;241m.\u001b[39m_instructions_to_tweets(obj)\n",
      "File \u001b[1;32m~\\anaconda3\\envs\\PythonML\\lib\\site-packages\\snscrape\\modules\\twitter.py:369\u001b[0m, in \u001b[0;36m_TwitterAPIScraper._iter_api_data\u001b[1;34m(self, endpoint, params, paginationParams, cursor, direction)\u001b[0m\n\u001b[0;32m    367\u001b[0m \u001b[38;5;28;01mwhile\u001b[39;00m \u001b[38;5;28;01mTrue\u001b[39;00m:\n\u001b[0;32m    368\u001b[0m \t_logger\u001b[38;5;241m.\u001b[39minfo(\u001b[38;5;124mf\u001b[39m\u001b[38;5;124m'\u001b[39m\u001b[38;5;124mRetrieving scroll page \u001b[39m\u001b[38;5;132;01m{\u001b[39;00mcursor\u001b[38;5;132;01m}\u001b[39;00m\u001b[38;5;124m'\u001b[39m)\n\u001b[1;32m--> 369\u001b[0m \tobj \u001b[38;5;241m=\u001b[39m \u001b[38;5;28;43mself\u001b[39;49m\u001b[38;5;241;43m.\u001b[39;49m\u001b[43m_get_api_data\u001b[49m\u001b[43m(\u001b[49m\u001b[43mendpoint\u001b[49m\u001b[43m,\u001b[49m\u001b[43m \u001b[49m\u001b[43mreqParams\u001b[49m\u001b[43m)\u001b[49m\n\u001b[0;32m    370\u001b[0m \t\u001b[38;5;28;01myield\u001b[39;00m obj\n\u001b[0;32m    372\u001b[0m \t\u001b[38;5;66;03m# No data format test, just a hard and loud crash if anything's wrong :-)\u001b[39;00m\n",
      "File \u001b[1;32m~\\anaconda3\\envs\\PythonML\\lib\\site-packages\\snscrape\\modules\\twitter.py:339\u001b[0m, in \u001b[0;36m_TwitterAPIScraper._get_api_data\u001b[1;34m(self, endpoint, params)\u001b[0m\n\u001b[0;32m    337\u001b[0m \u001b[38;5;28;01mdef\u001b[39;00m \u001b[38;5;21m_get_api_data\u001b[39m(\u001b[38;5;28mself\u001b[39m, endpoint, params):\n\u001b[0;32m    338\u001b[0m \t\u001b[38;5;28mself\u001b[39m\u001b[38;5;241m.\u001b[39m_ensure_guest_token()\n\u001b[1;32m--> 339\u001b[0m \tr \u001b[38;5;241m=\u001b[39m \u001b[38;5;28;43mself\u001b[39;49m\u001b[38;5;241;43m.\u001b[39;49m\u001b[43m_get\u001b[49m\u001b[43m(\u001b[49m\u001b[43mendpoint\u001b[49m\u001b[43m,\u001b[49m\u001b[43m \u001b[49m\u001b[43mparams\u001b[49m\u001b[43m \u001b[49m\u001b[38;5;241;43m=\u001b[39;49m\u001b[43m \u001b[49m\u001b[43mparams\u001b[49m\u001b[43m,\u001b[49m\u001b[43m \u001b[49m\u001b[43mheaders\u001b[49m\u001b[43m \u001b[49m\u001b[38;5;241;43m=\u001b[39;49m\u001b[43m \u001b[49m\u001b[38;5;28;43mself\u001b[39;49m\u001b[38;5;241;43m.\u001b[39;49m\u001b[43m_apiHeaders\u001b[49m\u001b[43m,\u001b[49m\u001b[43m \u001b[49m\u001b[43mresponseOkCallback\u001b[49m\u001b[43m \u001b[49m\u001b[38;5;241;43m=\u001b[39;49m\u001b[43m \u001b[49m\u001b[38;5;28;43mself\u001b[39;49m\u001b[38;5;241;43m.\u001b[39;49m\u001b[43m_check_api_response\u001b[49m\u001b[43m)\u001b[49m\n\u001b[0;32m    340\u001b[0m \t\u001b[38;5;28;01mtry\u001b[39;00m:\n\u001b[0;32m    341\u001b[0m \t\tobj \u001b[38;5;241m=\u001b[39m r\u001b[38;5;241m.\u001b[39mjson()\n",
      "File \u001b[1;32m~\\anaconda3\\envs\\PythonML\\lib\\site-packages\\snscrape\\base.py:216\u001b[0m, in \u001b[0;36mScraper._get\u001b[1;34m(self, *args, **kwargs)\u001b[0m\n\u001b[0;32m    215\u001b[0m \u001b[38;5;28;01mdef\u001b[39;00m \u001b[38;5;21m_get\u001b[39m(\u001b[38;5;28mself\u001b[39m, \u001b[38;5;241m*\u001b[39margs, \u001b[38;5;241m*\u001b[39m\u001b[38;5;241m*\u001b[39mkwargs):\n\u001b[1;32m--> 216\u001b[0m \t\u001b[38;5;28;01mreturn\u001b[39;00m \u001b[38;5;28mself\u001b[39m\u001b[38;5;241m.\u001b[39m_request(\u001b[38;5;124m'\u001b[39m\u001b[38;5;124mGET\u001b[39m\u001b[38;5;124m'\u001b[39m, \u001b[38;5;241m*\u001b[39margs, \u001b[38;5;241m*\u001b[39m\u001b[38;5;241m*\u001b[39mkwargs)\n",
      "File \u001b[1;32m~\\anaconda3\\envs\\PythonML\\lib\\site-packages\\snscrape\\base.py:212\u001b[0m, in \u001b[0;36mScraper._request\u001b[1;34m(self, method, url, params, data, headers, timeout, responseOkCallback, allowRedirects)\u001b[0m\n\u001b[0;32m    210\u001b[0m \tmsg \u001b[38;5;241m=\u001b[39m \u001b[38;5;124mf\u001b[39m\u001b[38;5;124m'\u001b[39m\u001b[38;5;132;01m{\u001b[39;00m\u001b[38;5;28mself\u001b[39m\u001b[38;5;241m.\u001b[39m_retries \u001b[38;5;241m+\u001b[39m \u001b[38;5;241m1\u001b[39m\u001b[38;5;132;01m}\u001b[39;00m\u001b[38;5;124m requests to \u001b[39m\u001b[38;5;132;01m{\u001b[39;00mreq\u001b[38;5;241m.\u001b[39murl\u001b[38;5;132;01m}\u001b[39;00m\u001b[38;5;124m failed, giving up.\u001b[39m\u001b[38;5;124m'\u001b[39m\n\u001b[0;32m    211\u001b[0m \tlogger\u001b[38;5;241m.\u001b[39mfatal(msg)\n\u001b[1;32m--> 212\u001b[0m \t\u001b[38;5;28;01mraise\u001b[39;00m ScraperException(msg)\n\u001b[0;32m    213\u001b[0m \u001b[38;5;28;01mraise\u001b[39;00m \u001b[38;5;167;01mRuntimeError\u001b[39;00m(\u001b[38;5;124m'\u001b[39m\u001b[38;5;124mReached unreachable code\u001b[39m\u001b[38;5;124m'\u001b[39m)\n",
      "\u001b[1;31mScraperException\u001b[0m: 4 requests to https://api.twitter.com/2/search/adaptive.json?include_profile_interstitial_type=1&include_blocking=1&include_blocked_by=1&include_followed_by=1&include_want_retweets=1&include_mute_edge=1&include_can_dm=1&include_can_media_tag=1&skip_status=1&cards_platform=Web-12&include_cards=1&include_ext_alt_text=true&include_quote_count=true&include_reply_count=1&tweet_mode=extended&include_entities=true&include_user_entities=true&include_ext_media_color=true&include_ext_media_availability=true&send_error_codes=true&simple_quoted_tweets=true&q=%23dogecoin+since%3A2021-01-01+until%3A2021-12-18&tweet_search_mode=live&count=100&query_source=spelling_expansion_revert_click&cursor=scroll%3AthGAVUV0VFVBaAwKqBsJ3w6ygWjIC94fCSye0oEnEV7J1zFYCJehgEVVNFUjUBFeYKFQAA&pc=1&spelling_corrections=1&ext=mediaStats%2ChighlightedLabel failed, giving up."
     ]
    }
   ],
   "source": [
    "BreakOutScrape(80000,8)"
   ]
  },
  {
   "cell_type": "code",
   "execution_count": 27,
   "id": "b3903e41-5787-428f-9346-875f286ae866",
   "metadata": {},
   "outputs": [
    {
     "name": "stdout",
     "output_type": "stream",
     "text": [
      "C:\\Users\\Claudio\\Desktop\\Archivos\\DH -Data Science\\NLPK\\new_scraped_tweets_0.parquet\n",
      "C:\\Users\\Claudio\\Desktop\\Archivos\\DH -Data Science\\NLPK\\new_scraped_tweets_1.parquet\n",
      "C:\\Users\\Claudio\\Desktop\\Archivos\\DH -Data Science\\NLPK\\new_scraped_tweets_2.parquet\n",
      "C:\\Users\\Claudio\\Desktop\\Archivos\\DH -Data Science\\NLPK\\new_scraped_tweets_3.parquet\n",
      "Percentage of duplicated rows: 0.03526093088857546\n",
      "1418\n",
      "1367\n"
     ]
    }
   ],
   "source": [
    " dataframe_stacked = StackDataframes(r\"\\new_scraped_tweets_*.parquet\")"
   ]
  },
  {
   "cell_type": "code",
   "execution_count": 29,
   "id": "909dd40f-df4e-4932-bc93-58afe0845193",
   "metadata": {},
   "outputs": [
    {
     "data": {
      "text/plain": [
       "'2021-12-5'"
      ]
     },
     "execution_count": 29,
     "metadata": {},
     "output_type": "execute_result"
    }
   ],
   "source": [
    "GetMinDate(dataframe_stacked)"
   ]
  },
  {
   "cell_type": "code",
   "execution_count": 20,
   "id": "1265e343-fa1d-4743-841f-cf4241ffb23e",
   "metadata": {},
   "outputs": [
    {
     "name": "stdout",
     "output_type": "stream",
     "text": [
      "time elapsed: 18.1 min\n",
      "2021-12-12\n",
      "time elapsed: 19.2 min\n",
      "2021-12-7\n",
      "time elapsed: 13.5 min\n",
      "2021-12-5\n"
     ]
    }
   ],
   "source": [
    "ResumeScraping(dataframe_stacked,60000,3)"
   ]
  },
  {
   "cell_type": "code",
   "execution_count": 35,
   "id": "3dfc7d0c-a07e-4f80-af77-57ea00553c7a",
   "metadata": {},
   "outputs": [],
   "source": [
    "#EraseFiles(r\"\\new_scraped_tweets_*.parquet\")"
   ]
  },
  {
   "cell_type": "code",
   "execution_count": null,
   "id": "35df6870-552d-4062-a78b-1125e6fd9be8",
   "metadata": {},
   "outputs": [],
   "source": [
    "directory = os.getcwd()\n",
    "    lista_dfs=[]\n",
    "    for name in glob.glob(directory+nombre_partron_de_archivos):\n",
    "        print(name)\n",
    "        dataframe_actual = pd.read_parquet(name)\n",
    "        lista_dfs.append(dataframe_actual)"
   ]
  },
  {
   "cell_type": "code",
   "execution_count": 14,
   "id": "05ad4435-6e14-4f49-b697-54138094d930",
   "metadata": {},
   "outputs": [
    {
     "ename": "NameError",
     "evalue": "name 'dataframe_stacked' is not defined",
     "output_type": "error",
     "traceback": [
      "\u001b[1;31m---------------------------------------------------------------------------\u001b[0m",
      "\u001b[1;31mNameError\u001b[0m                                 Traceback (most recent call last)",
      "Input \u001b[1;32mIn [14]\u001b[0m, in \u001b[0;36m<cell line: 1>\u001b[1;34m()\u001b[0m\n\u001b[1;32m----> 1\u001b[0m fecha_menor \u001b[38;5;241m=\u001b[39m GetMinDate(\u001b[43mdataframe_stacked\u001b[49m)\n\u001b[0;32m      2\u001b[0m fecha_menor\n",
      "\u001b[1;31mNameError\u001b[0m: name 'dataframe_stacked' is not defined"
     ]
    }
   ],
   "source": [
    "fecha_menor = GetMinDate(dataframe_stacked)\n",
    "fecha_menor"
   ]
  },
  {
   "cell_type": "code",
   "execution_count": 49,
   "id": "f97bf81f-80c7-4773-b8fa-de9b4cc0476d",
   "metadata": {},
   "outputs": [],
   "source": [
    "import datetime"
   ]
  },
  {
   "cell_type": "code",
   "execution_count": 52,
   "id": "788032e1-a1e8-4a60-8e55-3fdc9a31273d",
   "metadata": {},
   "outputs": [
    {
     "data": {
      "text/plain": [
       "Timestamp('2021-12-13 00:00:00')"
      ]
     },
     "execution_count": 52,
     "metadata": {},
     "output_type": "execute_result"
    }
   ],
   "source": [
    "pd.to_datetime(fecha_menor)+datetime.timedelta(days=1)"
   ]
  },
  {
   "cell_type": "code",
   "execution_count": 45,
   "id": "41900f3d-2a69-4da8-9df8-9516fef32d00",
   "metadata": {},
   "outputs": [
    {
     "data": {
      "text/html": [
       "<div>\n",
       "<style scoped>\n",
       "    .dataframe tbody tr th:only-of-type {\n",
       "        vertical-align: middle;\n",
       "    }\n",
       "\n",
       "    .dataframe tbody tr th {\n",
       "        vertical-align: top;\n",
       "    }\n",
       "\n",
       "    .dataframe thead th {\n",
       "        text-align: right;\n",
       "    }\n",
       "</style>\n",
       "<table border=\"1\" class=\"dataframe\">\n",
       "  <thead>\n",
       "    <tr style=\"text-align: right;\">\n",
       "      <th></th>\n",
       "      <th>Datetime</th>\n",
       "      <th>Tweet Id</th>\n",
       "      <th>Text</th>\n",
       "      <th>Username</th>\n",
       "      <th>Likes</th>\n",
       "      <th>Retweet</th>\n",
       "      <th>Reply</th>\n",
       "      <th>Quote</th>\n",
       "    </tr>\n",
       "  </thead>\n",
       "  <tbody>\n",
       "    <tr>\n",
       "      <th>0</th>\n",
       "      <td>2021-12-17 23:55:20+00:00</td>\n",
       "      <td>1471992441385402370</td>\n",
       "      <td>#HODL on #dogearmy 💯💯💯🔥🔥🔥💪🏼💪🏼💪🏼 we gonna be al...</td>\n",
       "      <td>topherAlba26</td>\n",
       "      <td>122</td>\n",
       "      <td>44</td>\n",
       "      <td>24</td>\n",
       "      <td>0</td>\n",
       "    </tr>\n",
       "    <tr>\n",
       "      <th>1</th>\n",
       "      <td>2021-12-17 23:53:31+00:00</td>\n",
       "      <td>1471991982440562702</td>\n",
       "      <td>Something for you to to bless your phone backg...</td>\n",
       "      <td>_mintydoge</td>\n",
       "      <td>101</td>\n",
       "      <td>35</td>\n",
       "      <td>16</td>\n",
       "      <td>0</td>\n",
       "    </tr>\n",
       "    <tr>\n",
       "      <th>2</th>\n",
       "      <td>2021-12-17 23:09:55+00:00</td>\n",
       "      <td>1471981010871103497</td>\n",
       "      <td>Ok then\\n#doge #dogecoin (middle class college...</td>\n",
       "      <td>dogeofficialceo</td>\n",
       "      <td>112</td>\n",
       "      <td>16</td>\n",
       "      <td>12</td>\n",
       "      <td>0</td>\n",
       "    </tr>\n",
       "    <tr>\n",
       "      <th>3</th>\n",
       "      <td>2021-12-17 23:05:43+00:00</td>\n",
       "      <td>1471979954715906071</td>\n",
       "      <td>#Dogecoin #doge $doge 😍❤️ https://t.co/VfNMjOeKKH</td>\n",
       "      <td>dogesuppporteam</td>\n",
       "      <td>201</td>\n",
       "      <td>39</td>\n",
       "      <td>23</td>\n",
       "      <td>1</td>\n",
       "    </tr>\n",
       "    <tr>\n",
       "      <th>4</th>\n",
       "      <td>2021-12-17 22:42:28+00:00</td>\n",
       "      <td>1471974101182988290</td>\n",
       "      <td>today i realized that i reached 30k followers ...</td>\n",
       "      <td>BigImpactHumans</td>\n",
       "      <td>183</td>\n",
       "      <td>17</td>\n",
       "      <td>37</td>\n",
       "      <td>1</td>\n",
       "    </tr>\n",
       "    <tr>\n",
       "      <th>...</th>\n",
       "      <td>...</td>\n",
       "      <td>...</td>\n",
       "      <td>...</td>\n",
       "      <td>...</td>\n",
       "      <td>...</td>\n",
       "      <td>...</td>\n",
       "      <td>...</td>\n",
       "      <td>...</td>\n",
       "    </tr>\n",
       "    <tr>\n",
       "      <th>83</th>\n",
       "      <td>2021-12-16 20:31:03+00:00</td>\n",
       "      <td>1471578641943330816</td>\n",
       "      <td>Who was the first celebrity you saw support #D...</td>\n",
       "      <td>Cocochaneladair</td>\n",
       "      <td>187</td>\n",
       "      <td>18</td>\n",
       "      <td>66</td>\n",
       "      <td>4</td>\n",
       "    </tr>\n",
       "    <tr>\n",
       "      <th>84</th>\n",
       "      <td>2021-12-16 20:02:51+00:00</td>\n",
       "      <td>1471571544031649793</td>\n",
       "      <td>YTD performance of #Dogecoin.  Still looks goo...</td>\n",
       "      <td>realDogecoinOG</td>\n",
       "      <td>147</td>\n",
       "      <td>24</td>\n",
       "      <td>15</td>\n",
       "      <td>3</td>\n",
       "    </tr>\n",
       "    <tr>\n",
       "      <th>85</th>\n",
       "      <td>2021-12-16 19:38:05+00:00</td>\n",
       "      <td>1471565311417540610</td>\n",
       "      <td>DOGEEX IS NOW LIVE! \\n\\nJOIN THE FIRST DECENTR...</td>\n",
       "      <td>MiniDOGEToken</td>\n",
       "      <td>234</td>\n",
       "      <td>120</td>\n",
       "      <td>69</td>\n",
       "      <td>13</td>\n",
       "    </tr>\n",
       "    <tr>\n",
       "      <th>86</th>\n",
       "      <td>2021-12-16 19:12:07+00:00</td>\n",
       "      <td>1471558778323550209</td>\n",
       "      <td>Are you guys gonna dump #Dogecoin when we hit ...</td>\n",
       "      <td>calic415</td>\n",
       "      <td>354</td>\n",
       "      <td>44</td>\n",
       "      <td>46</td>\n",
       "      <td>1</td>\n",
       "    </tr>\n",
       "    <tr>\n",
       "      <th>87</th>\n",
       "      <td>2021-12-16 18:48:36+00:00</td>\n",
       "      <td>1471552861196664837</td>\n",
       "      <td>#dogecoin https://t.co/PLm6MPFDq9</td>\n",
       "      <td>_mintydoge</td>\n",
       "      <td>102</td>\n",
       "      <td>20</td>\n",
       "      <td>8</td>\n",
       "      <td>0</td>\n",
       "    </tr>\n",
       "  </tbody>\n",
       "</table>\n",
       "<p>88 rows × 8 columns</p>\n",
       "</div>"
      ],
      "text/plain": [
       "                    Datetime             Tweet Id  \\\n",
       "0  2021-12-17 23:55:20+00:00  1471992441385402370   \n",
       "1  2021-12-17 23:53:31+00:00  1471991982440562702   \n",
       "2  2021-12-17 23:09:55+00:00  1471981010871103497   \n",
       "3  2021-12-17 23:05:43+00:00  1471979954715906071   \n",
       "4  2021-12-17 22:42:28+00:00  1471974101182988290   \n",
       "..                       ...                  ...   \n",
       "83 2021-12-16 20:31:03+00:00  1471578641943330816   \n",
       "84 2021-12-16 20:02:51+00:00  1471571544031649793   \n",
       "85 2021-12-16 19:38:05+00:00  1471565311417540610   \n",
       "86 2021-12-16 19:12:07+00:00  1471558778323550209   \n",
       "87 2021-12-16 18:48:36+00:00  1471552861196664837   \n",
       "\n",
       "                                                 Text         Username  Likes  \\\n",
       "0   #HODL on #dogearmy 💯💯💯🔥🔥🔥💪🏼💪🏼💪🏼 we gonna be al...     topherAlba26    122   \n",
       "1   Something for you to to bless your phone backg...       _mintydoge    101   \n",
       "2   Ok then\\n#doge #dogecoin (middle class college...  dogeofficialceo    112   \n",
       "3   #Dogecoin #doge $doge 😍❤️ https://t.co/VfNMjOeKKH  dogesuppporteam    201   \n",
       "4   today i realized that i reached 30k followers ...  BigImpactHumans    183   \n",
       "..                                                ...              ...    ...   \n",
       "83  Who was the first celebrity you saw support #D...  Cocochaneladair    187   \n",
       "84  YTD performance of #Dogecoin.  Still looks goo...   realDogecoinOG    147   \n",
       "85  DOGEEX IS NOW LIVE! \\n\\nJOIN THE FIRST DECENTR...    MiniDOGEToken    234   \n",
       "86  Are you guys gonna dump #Dogecoin when we hit ...         calic415    354   \n",
       "87                  #dogecoin https://t.co/PLm6MPFDq9       _mintydoge    102   \n",
       "\n",
       "    Retweet  Reply  Quote  \n",
       "0        44     24      0  \n",
       "1        35     16      0  \n",
       "2        16     12      0  \n",
       "3        39     23      1  \n",
       "4        17     37      1  \n",
       "..      ...    ...    ...  \n",
       "83       18     66      4  \n",
       "84       24     15      3  \n",
       "85      120     69     13  \n",
       "86       44     46      1  \n",
       "87       20      8      0  \n",
       "\n",
       "[88 rows x 8 columns]"
      ]
     },
     "execution_count": 45,
     "metadata": {},
     "output_type": "execute_result"
    }
   ],
   "source": [
    "lista_dfs[1]"
   ]
  },
  {
   "cell_type": "code",
   "execution_count": 34,
   "id": "a74c7f23-e43f-4c41-8f2b-067a5aab769d",
   "metadata": {},
   "outputs": [
    {
     "data": {
      "text/html": [
       "<div>\n",
       "<style scoped>\n",
       "    .dataframe tbody tr th:only-of-type {\n",
       "        vertical-align: middle;\n",
       "    }\n",
       "\n",
       "    .dataframe tbody tr th {\n",
       "        vertical-align: top;\n",
       "    }\n",
       "\n",
       "    .dataframe thead th {\n",
       "        text-align: right;\n",
       "    }\n",
       "</style>\n",
       "<table border=\"1\" class=\"dataframe\">\n",
       "  <thead>\n",
       "    <tr style=\"text-align: right;\">\n",
       "      <th></th>\n",
       "      <th>Datetime</th>\n",
       "      <th>Tweet Id</th>\n",
       "      <th>Text</th>\n",
       "      <th>Username</th>\n",
       "      <th>Likes</th>\n",
       "      <th>Retweet</th>\n",
       "      <th>Reply</th>\n",
       "      <th>Quote</th>\n",
       "    </tr>\n",
       "  </thead>\n",
       "  <tbody>\n",
       "    <tr>\n",
       "      <th>0</th>\n",
       "      <td>2021-12-19 23:58:11+00:00</td>\n",
       "      <td>1472717932916576259</td>\n",
       "      <td>Keep up the good work Elon @elonmusk ⚒️🔥 Show ...</td>\n",
       "      <td>DogecoinNorway</td>\n",
       "      <td>607</td>\n",
       "      <td>100</td>\n",
       "      <td>38</td>\n",
       "      <td>6</td>\n",
       "    </tr>\n",
       "    <tr>\n",
       "      <th>1</th>\n",
       "      <td>2021-12-19 23:36:20+00:00</td>\n",
       "      <td>1472712433869279232</td>\n",
       "      <td>Congrats on 900k followers @BillyM2k! (Billy c...</td>\n",
       "      <td>itsALLrisky</td>\n",
       "      <td>313</td>\n",
       "      <td>47</td>\n",
       "      <td>19</td>\n",
       "      <td>1</td>\n",
       "    </tr>\n",
       "    <tr>\n",
       "      <th>2</th>\n",
       "      <td>2021-12-19 23:11:11+00:00</td>\n",
       "      <td>1472706104991879171</td>\n",
       "      <td>#Dogecoin will make millionaires</td>\n",
       "      <td>itsALLrisky</td>\n",
       "      <td>808</td>\n",
       "      <td>109</td>\n",
       "      <td>81</td>\n",
       "      <td>6</td>\n",
       "    </tr>\n",
       "    <tr>\n",
       "      <th>3</th>\n",
       "      <td>2021-12-19 23:08:01+00:00</td>\n",
       "      <td>1472705306182492164</td>\n",
       "      <td>Congratulations to #DogeBonk for becoming the ...</td>\n",
       "      <td>kcsdaily</td>\n",
       "      <td>428</td>\n",
       "      <td>220</td>\n",
       "      <td>94</td>\n",
       "      <td>11</td>\n",
       "    </tr>\n",
       "    <tr>\n",
       "      <th>4</th>\n",
       "      <td>2021-12-19 22:40:10+00:00</td>\n",
       "      <td>1472698297521348614</td>\n",
       "      <td>#SORRYELON WE MADE IT TO OUTER SPACE BEFORE #D...</td>\n",
       "      <td>bonktovi</td>\n",
       "      <td>106</td>\n",
       "      <td>43</td>\n",
       "      <td>8</td>\n",
       "      <td>1</td>\n",
       "    </tr>\n",
       "    <tr>\n",
       "      <th>...</th>\n",
       "      <td>...</td>\n",
       "      <td>...</td>\n",
       "      <td>...</td>\n",
       "      <td>...</td>\n",
       "      <td>...</td>\n",
       "      <td>...</td>\n",
       "      <td>...</td>\n",
       "      <td>...</td>\n",
       "    </tr>\n",
       "    <tr>\n",
       "      <th>101</th>\n",
       "      <td>2021-12-12 23:32:58+00:00</td>\n",
       "      <td>1470174872227700737</td>\n",
       "      <td>decisions 🤔 #doge #dogecoin #DoOnlyGoodEveryda...</td>\n",
       "      <td>MilgateTyler</td>\n",
       "      <td>108</td>\n",
       "      <td>32</td>\n",
       "      <td>14</td>\n",
       "      <td>2</td>\n",
       "    </tr>\n",
       "    <tr>\n",
       "      <th>102</th>\n",
       "      <td>2021-12-12 22:50:34+00:00</td>\n",
       "      <td>1470164202404777990</td>\n",
       "      <td>I didn’t buy #dogecoin off hype. I didn’t buy ...</td>\n",
       "      <td>DogeDillionaire</td>\n",
       "      <td>132</td>\n",
       "      <td>25</td>\n",
       "      <td>19</td>\n",
       "      <td>3</td>\n",
       "    </tr>\n",
       "    <tr>\n",
       "      <th>103</th>\n",
       "      <td>2021-12-12 22:23:59+00:00</td>\n",
       "      <td>1470157510522908673</td>\n",
       "      <td>#dogecoin #doge $Doge #DogecoinToTheMoon  🌑🌌 h...</td>\n",
       "      <td>YoungCrypto69</td>\n",
       "      <td>260</td>\n",
       "      <td>81</td>\n",
       "      <td>43</td>\n",
       "      <td>7</td>\n",
       "    </tr>\n",
       "    <tr>\n",
       "      <th>104</th>\n",
       "      <td>2021-12-12 21:52:50+00:00</td>\n",
       "      <td>1470149670085316612</td>\n",
       "      <td>We are currently FLYING through our last #NFTs...</td>\n",
       "      <td>CheemsInu</td>\n",
       "      <td>440</td>\n",
       "      <td>213</td>\n",
       "      <td>98</td>\n",
       "      <td>25</td>\n",
       "    </tr>\n",
       "    <tr>\n",
       "      <th>105</th>\n",
       "      <td>2021-12-12 21:32:10+00:00</td>\n",
       "      <td>1470144469789986820</td>\n",
       "      <td>If you hold an asset long term and you’ve done...</td>\n",
       "      <td>TOPDOGE007</td>\n",
       "      <td>307</td>\n",
       "      <td>65</td>\n",
       "      <td>146</td>\n",
       "      <td>2</td>\n",
       "    </tr>\n",
       "  </tbody>\n",
       "</table>\n",
       "<p>390 rows × 8 columns</p>\n",
       "</div>"
      ],
      "text/plain": [
       "                     Datetime             Tweet Id  \\\n",
       "0   2021-12-19 23:58:11+00:00  1472717932916576259   \n",
       "1   2021-12-19 23:36:20+00:00  1472712433869279232   \n",
       "2   2021-12-19 23:11:11+00:00  1472706104991879171   \n",
       "3   2021-12-19 23:08:01+00:00  1472705306182492164   \n",
       "4   2021-12-19 22:40:10+00:00  1472698297521348614   \n",
       "..                        ...                  ...   \n",
       "101 2021-12-12 23:32:58+00:00  1470174872227700737   \n",
       "102 2021-12-12 22:50:34+00:00  1470164202404777990   \n",
       "103 2021-12-12 22:23:59+00:00  1470157510522908673   \n",
       "104 2021-12-12 21:52:50+00:00  1470149670085316612   \n",
       "105 2021-12-12 21:32:10+00:00  1470144469789986820   \n",
       "\n",
       "                                                  Text         Username  \\\n",
       "0    Keep up the good work Elon @elonmusk ⚒️🔥 Show ...   DogecoinNorway   \n",
       "1    Congrats on 900k followers @BillyM2k! (Billy c...      itsALLrisky   \n",
       "2                     #Dogecoin will make millionaires      itsALLrisky   \n",
       "3    Congratulations to #DogeBonk for becoming the ...         kcsdaily   \n",
       "4    #SORRYELON WE MADE IT TO OUTER SPACE BEFORE #D...         bonktovi   \n",
       "..                                                 ...              ...   \n",
       "101  decisions 🤔 #doge #dogecoin #DoOnlyGoodEveryda...     MilgateTyler   \n",
       "102  I didn’t buy #dogecoin off hype. I didn’t buy ...  DogeDillionaire   \n",
       "103  #dogecoin #doge $Doge #DogecoinToTheMoon  🌑🌌 h...    YoungCrypto69   \n",
       "104  We are currently FLYING through our last #NFTs...        CheemsInu   \n",
       "105  If you hold an asset long term and you’ve done...       TOPDOGE007   \n",
       "\n",
       "     Likes  Retweet  Reply  Quote  \n",
       "0      607      100     38      6  \n",
       "1      313       47     19      1  \n",
       "2      808      109     81      6  \n",
       "3      428      220     94     11  \n",
       "4      106       43      8      1  \n",
       "..     ...      ...    ...    ...  \n",
       "101    108       32     14      2  \n",
       "102    132       25     19      3  \n",
       "103    260       81     43      7  \n",
       "104    440      213     98     25  \n",
       "105    307       65    146      2  \n",
       "\n",
       "[390 rows x 8 columns]"
      ]
     },
     "execution_count": 34,
     "metadata": {},
     "output_type": "execute_result"
    }
   ],
   "source": [
    "dataframe_stacked"
   ]
  },
  {
   "cell_type": "code",
   "execution_count": 29,
   "id": "4059e576-4eda-4b2e-8115-0cb409ae9a21",
   "metadata": {},
   "outputs": [],
   "source": [
    "EraseFiles(r\"\\new_scraped_tweets_*.parquet\")"
   ]
  },
  {
   "cell_type": "code",
   "execution_count": 16,
   "id": "01154ca4-ca17-4639-bd6e-6ee3db53ca4b",
   "metadata": {},
   "outputs": [],
   "source": []
  },
  {
   "cell_type": "markdown",
   "id": "46e32734-ded3-42c3-a6b8-5fd3b95208a8",
   "metadata": {},
   "source": [
    "Aca se va a chequear qué porcentaje de los dataframes se superpone y se duplican los datos. Esto es importante porque esto es tiempo gastado en procesar datos que ya se tienen. \n",
    "Es posible que esto pase cuando las particiones que se realizan quedan con poca cantidad de tweets cada uno y hay mas chances de que de una iteración a otra no se cambie de dia asignado a \n",
    "\"fecha_menor\".\n"
   ]
  },
  {
   "cell_type": "markdown",
   "id": "8ac78d7e-e781-4cd2-b4c5-7d4037aa17d6",
   "metadata": {},
   "source": [
    "Con 50.000 tweets y 10 particiones- el tiempo requerido fue de 41,9min y el porcentaje de duplicados fue de 17%\n"
   ]
  },
  {
   "cell_type": "code",
   "execution_count": 25,
   "id": "09eac829-b872-4474-b68d-7a0e5c40ac73",
   "metadata": {},
   "outputs": [
    {
     "name": "stdout",
     "output_type": "stream",
     "text": [
      "Percentaje of duplicated rows: 0.17036450079239301\n"
     ]
    }
   ],
   "source": [
    "#Check for overlapping between dataframes\n",
    "percentage = dafatame_vertical_stack.duplicated().sum()/len(dafatame_vertical_stack)\n",
    "print(\"Percentaje of duplicated rows:\",percentage)\n"
   ]
  },
  {
   "cell_type": "code",
   "execution_count": 26,
   "id": "6177bd75-6322-46cb-8396-b166349117e1",
   "metadata": {},
   "outputs": [],
   "source": []
  },
  {
   "cell_type": "code",
   "execution_count": 27,
   "id": "f13fbd75-49f2-42ce-84bf-ee5b3f031d66",
   "metadata": {},
   "outputs": [
    {
     "name": "stdout",
     "output_type": "stream",
     "text": [
      "Percentaje of duplicated rows: 0.0\n"
     ]
    }
   ],
   "source": [
    "#Re check after dropping duplicates\n",
    "percentage = dafatame_vertical_stack_no_duplicated.duplicated().sum()/len(dafatame_vertical_stack_no_duplicated)\n",
    "print(\"Percentaje of duplicated rows:\",percentage)"
   ]
  },
  {
   "cell_type": "code",
   "execution_count": 28,
   "id": "8a259a64-99d9-4754-8820-cb5822efed0f",
   "metadata": {},
   "outputs": [
    {
     "data": {
      "text/html": [
       "<div>\n",
       "<style scoped>\n",
       "    .dataframe tbody tr th:only-of-type {\n",
       "        vertical-align: middle;\n",
       "    }\n",
       "\n",
       "    .dataframe tbody tr th {\n",
       "        vertical-align: top;\n",
       "    }\n",
       "\n",
       "    .dataframe thead th {\n",
       "        text-align: right;\n",
       "    }\n",
       "</style>\n",
       "<table border=\"1\" class=\"dataframe\">\n",
       "  <thead>\n",
       "    <tr style=\"text-align: right;\">\n",
       "      <th></th>\n",
       "      <th>Datetime</th>\n",
       "      <th>Tweet Id</th>\n",
       "      <th>Text</th>\n",
       "      <th>Username</th>\n",
       "      <th>Likes</th>\n",
       "      <th>Retweet</th>\n",
       "      <th>Reply</th>\n",
       "      <th>Quote</th>\n",
       "    </tr>\n",
       "  </thead>\n",
       "  <tbody>\n",
       "    <tr>\n",
       "      <th>0</th>\n",
       "      <td>2021-12-19 23:58:11+00:00</td>\n",
       "      <td>1472717932916576259</td>\n",
       "      <td>Keep up the good work Elon @elonmusk ⚒️🔥 Show ...</td>\n",
       "      <td>DogecoinNorway</td>\n",
       "      <td>607</td>\n",
       "      <td>100</td>\n",
       "      <td>38</td>\n",
       "      <td>6</td>\n",
       "    </tr>\n",
       "    <tr>\n",
       "      <th>1</th>\n",
       "      <td>2021-12-19 23:36:20+00:00</td>\n",
       "      <td>1472712433869279232</td>\n",
       "      <td>Congrats on 900k followers @BillyM2k! (Billy c...</td>\n",
       "      <td>itsALLrisky</td>\n",
       "      <td>313</td>\n",
       "      <td>47</td>\n",
       "      <td>19</td>\n",
       "      <td>1</td>\n",
       "    </tr>\n",
       "    <tr>\n",
       "      <th>2</th>\n",
       "      <td>2021-12-19 23:11:11+00:00</td>\n",
       "      <td>1472706104991879171</td>\n",
       "      <td>#Dogecoin will make millionaires</td>\n",
       "      <td>itsALLrisky</td>\n",
       "      <td>808</td>\n",
       "      <td>109</td>\n",
       "      <td>81</td>\n",
       "      <td>6</td>\n",
       "    </tr>\n",
       "    <tr>\n",
       "      <th>3</th>\n",
       "      <td>2021-12-19 23:08:01+00:00</td>\n",
       "      <td>1472705306182492164</td>\n",
       "      <td>Congratulations to #DogeBonk for becoming the ...</td>\n",
       "      <td>kcsdaily</td>\n",
       "      <td>428</td>\n",
       "      <td>220</td>\n",
       "      <td>94</td>\n",
       "      <td>11</td>\n",
       "    </tr>\n",
       "    <tr>\n",
       "      <th>4</th>\n",
       "      <td>2021-12-19 22:40:10+00:00</td>\n",
       "      <td>1472698297521348614</td>\n",
       "      <td>#SORRYELON WE MADE IT TO OUTER SPACE BEFORE #D...</td>\n",
       "      <td>bonktovi</td>\n",
       "      <td>107</td>\n",
       "      <td>43</td>\n",
       "      <td>8</td>\n",
       "      <td>1</td>\n",
       "    </tr>\n",
       "    <tr>\n",
       "      <th>...</th>\n",
       "      <td>...</td>\n",
       "      <td>...</td>\n",
       "      <td>...</td>\n",
       "      <td>...</td>\n",
       "      <td>...</td>\n",
       "      <td>...</td>\n",
       "      <td>...</td>\n",
       "      <td>...</td>\n",
       "    </tr>\n",
       "    <tr>\n",
       "      <th>71</th>\n",
       "      <td>2021-12-03 00:19:35+00:00</td>\n",
       "      <td>1466562722905034752</td>\n",
       "      <td>Elon Musk just liked a tweet from his x-girlfr...</td>\n",
       "      <td>MattWallace888</td>\n",
       "      <td>3678</td>\n",
       "      <td>448</td>\n",
       "      <td>273</td>\n",
       "      <td>9</td>\n",
       "    </tr>\n",
       "    <tr>\n",
       "      <th>72</th>\n",
       "      <td>2021-12-02 23:42:50+00:00</td>\n",
       "      <td>1466553476071129089</td>\n",
       "      <td>Hurry grab your bag we getting ready for the m...</td>\n",
       "      <td>TaxAveryShow</td>\n",
       "      <td>120</td>\n",
       "      <td>33</td>\n",
       "      <td>39</td>\n",
       "      <td>4</td>\n",
       "    </tr>\n",
       "    <tr>\n",
       "      <th>73</th>\n",
       "      <td>2021-12-02 23:29:41+00:00</td>\n",
       "      <td>1466550164487819264</td>\n",
       "      <td>Twitter Post Protest - Day 16\\n #ElonMusk #Dog...</td>\n",
       "      <td>CryptoThro</td>\n",
       "      <td>114</td>\n",
       "      <td>44</td>\n",
       "      <td>16</td>\n",
       "      <td>0</td>\n",
       "    </tr>\n",
       "    <tr>\n",
       "      <th>74</th>\n",
       "      <td>2021-12-02 23:13:41+00:00</td>\n",
       "      <td>1466546138715246593</td>\n",
       "      <td>Use your brain and buy some $DOGE! #dogecoin</td>\n",
       "      <td>usssks</td>\n",
       "      <td>387</td>\n",
       "      <td>58</td>\n",
       "      <td>32</td>\n",
       "      <td>1</td>\n",
       "    </tr>\n",
       "    <tr>\n",
       "      <th>75</th>\n",
       "      <td>2021-12-02 23:09:11+00:00</td>\n",
       "      <td>1466545009088417800</td>\n",
       "      <td>For those who are not yet legendary ;)🐕🪙🚀🚀🚀 #d...</td>\n",
       "      <td>old_soon</td>\n",
       "      <td>189</td>\n",
       "      <td>61</td>\n",
       "      <td>28</td>\n",
       "      <td>3</td>\n",
       "    </tr>\n",
       "  </tbody>\n",
       "</table>\n",
       "<p>1046 rows × 8 columns</p>\n",
       "</div>"
      ],
      "text/plain": [
       "                    Datetime             Tweet Id  \\\n",
       "0  2021-12-19 23:58:11+00:00  1472717932916576259   \n",
       "1  2021-12-19 23:36:20+00:00  1472712433869279232   \n",
       "2  2021-12-19 23:11:11+00:00  1472706104991879171   \n",
       "3  2021-12-19 23:08:01+00:00  1472705306182492164   \n",
       "4  2021-12-19 22:40:10+00:00  1472698297521348614   \n",
       "..                       ...                  ...   \n",
       "71 2021-12-03 00:19:35+00:00  1466562722905034752   \n",
       "72 2021-12-02 23:42:50+00:00  1466553476071129089   \n",
       "73 2021-12-02 23:29:41+00:00  1466550164487819264   \n",
       "74 2021-12-02 23:13:41+00:00  1466546138715246593   \n",
       "75 2021-12-02 23:09:11+00:00  1466545009088417800   \n",
       "\n",
       "                                                 Text        Username  Likes  \\\n",
       "0   Keep up the good work Elon @elonmusk ⚒️🔥 Show ...  DogecoinNorway    607   \n",
       "1   Congrats on 900k followers @BillyM2k! (Billy c...     itsALLrisky    313   \n",
       "2                    #Dogecoin will make millionaires     itsALLrisky    808   \n",
       "3   Congratulations to #DogeBonk for becoming the ...        kcsdaily    428   \n",
       "4   #SORRYELON WE MADE IT TO OUTER SPACE BEFORE #D...        bonktovi    107   \n",
       "..                                                ...             ...    ...   \n",
       "71  Elon Musk just liked a tweet from his x-girlfr...  MattWallace888   3678   \n",
       "72  Hurry grab your bag we getting ready for the m...    TaxAveryShow    120   \n",
       "73  Twitter Post Protest - Day 16\\n #ElonMusk #Dog...      CryptoThro    114   \n",
       "74       Use your brain and buy some $DOGE! #dogecoin          usssks    387   \n",
       "75  For those who are not yet legendary ;)🐕🪙🚀🚀🚀 #d...        old_soon    189   \n",
       "\n",
       "    Retweet  Reply  Quote  \n",
       "0       100     38      6  \n",
       "1        47     19      1  \n",
       "2       109     81      6  \n",
       "3       220     94     11  \n",
       "4        43      8      1  \n",
       "..      ...    ...    ...  \n",
       "71      448    273      9  \n",
       "72       33     39      4  \n",
       "73       44     16      0  \n",
       "74       58     32      1  \n",
       "75       61     28      3  \n",
       "\n",
       "[1046 rows x 8 columns]"
      ]
     },
     "execution_count": 28,
     "metadata": {},
     "output_type": "execute_result"
    }
   ],
   "source": [
    "dafatame_vertical_stack_no_duplicated"
   ]
  },
  {
   "cell_type": "code",
   "execution_count": 61,
   "id": "6c8b9564-b9ed-4139-93b1-7f1ef17528f6",
   "metadata": {},
   "outputs": [
    {
     "name": "stdout",
     "output_type": "stream",
     "text": [
      "time elpased: 0.8 min\n"
     ]
    }
   ],
   "source": [
    "dataframe = GetTweets(1000,500)"
   ]
  },
  {
   "cell_type": "code",
   "execution_count": 62,
   "id": "94c562bc-2190-4c9e-9c52-8a480acb14a1",
   "metadata": {},
   "outputs": [
    {
     "data": {
      "text/html": [
       "<div>\n",
       "<style scoped>\n",
       "    .dataframe tbody tr th:only-of-type {\n",
       "        vertical-align: middle;\n",
       "    }\n",
       "\n",
       "    .dataframe tbody tr th {\n",
       "        vertical-align: top;\n",
       "    }\n",
       "\n",
       "    .dataframe thead th {\n",
       "        text-align: right;\n",
       "    }\n",
       "</style>\n",
       "<table border=\"1\" class=\"dataframe\">\n",
       "  <thead>\n",
       "    <tr style=\"text-align: right;\">\n",
       "      <th></th>\n",
       "      <th>Datetime</th>\n",
       "      <th>Tweet Id</th>\n",
       "      <th>Text</th>\n",
       "      <th>Username</th>\n",
       "      <th>Likes</th>\n",
       "      <th>Retweet</th>\n",
       "      <th>Reply</th>\n",
       "      <th>Quote</th>\n",
       "    </tr>\n",
       "  </thead>\n",
       "  <tbody>\n",
       "    <tr>\n",
       "      <th>0</th>\n",
       "      <td>2021-12-19 23:58:11+00:00</td>\n",
       "      <td>1472717932916576259</td>\n",
       "      <td>Keep up the good work Elon @elonmusk ⚒️🔥 Show ...</td>\n",
       "      <td>DogecoinNorway</td>\n",
       "      <td>611</td>\n",
       "      <td>101</td>\n",
       "      <td>38</td>\n",
       "      <td>6</td>\n",
       "    </tr>\n",
       "    <tr>\n",
       "      <th>1</th>\n",
       "      <td>2021-12-19 23:11:11+00:00</td>\n",
       "      <td>1472706104991879171</td>\n",
       "      <td>#Dogecoin will make millionaires</td>\n",
       "      <td>itsALLrisky</td>\n",
       "      <td>809</td>\n",
       "      <td>109</td>\n",
       "      <td>81</td>\n",
       "      <td>6</td>\n",
       "    </tr>\n",
       "    <tr>\n",
       "      <th>2</th>\n",
       "      <td>2021-12-19 22:26:06+00:00</td>\n",
       "      <td>1472694757277122561</td>\n",
       "      <td>Wow #Dogecoin $DOGE https://t.co/AAqCvTnmUF</td>\n",
       "      <td>itsALLrisky</td>\n",
       "      <td>698</td>\n",
       "      <td>109</td>\n",
       "      <td>54</td>\n",
       "      <td>6</td>\n",
       "    </tr>\n",
       "    <tr>\n",
       "      <th>3</th>\n",
       "      <td>2021-12-19 22:01:06+00:00</td>\n",
       "      <td>1472688467083681794</td>\n",
       "      <td>Dogebonk #DOBO has beaten #ElonMusk to achieve...</td>\n",
       "      <td>BMcGleenon</td>\n",
       "      <td>656</td>\n",
       "      <td>269</td>\n",
       "      <td>239</td>\n",
       "      <td>26</td>\n",
       "    </tr>\n",
       "    <tr>\n",
       "      <th>4</th>\n",
       "      <td>2021-12-19 21:30:03+00:00</td>\n",
       "      <td>1472680653858787330</td>\n",
       "      <td>@elonmusk The most important thing to teach ki...</td>\n",
       "      <td>MattWallace888</td>\n",
       "      <td>622</td>\n",
       "      <td>57</td>\n",
       "      <td>131</td>\n",
       "      <td>3</td>\n",
       "    </tr>\n",
       "    <tr>\n",
       "      <th>5</th>\n",
       "      <td>2021-12-19 21:19:10+00:00</td>\n",
       "      <td>1472677916039331849</td>\n",
       "      <td>Are any of my followers actual real people tha...</td>\n",
       "      <td>usssks</td>\n",
       "      <td>665</td>\n",
       "      <td>63</td>\n",
       "      <td>124</td>\n",
       "      <td>7</td>\n",
       "    </tr>\n",
       "    <tr>\n",
       "      <th>6</th>\n",
       "      <td>2021-12-19 19:01:43+00:00</td>\n",
       "      <td>1472643323487731721</td>\n",
       "      <td>The market capitalization of meme-based digita...</td>\n",
       "      <td>BTCTN</td>\n",
       "      <td>1110</td>\n",
       "      <td>288</td>\n",
       "      <td>246</td>\n",
       "      <td>13</td>\n",
       "    </tr>\n",
       "    <tr>\n",
       "      <th>7</th>\n",
       "      <td>2021-12-19 18:29:19+00:00</td>\n",
       "      <td>1472635169161060356</td>\n",
       "      <td>HODL Starting To Trend!! LET’S MAKE IT GO CRAZ...</td>\n",
       "      <td>MattWallace888</td>\n",
       "      <td>1789</td>\n",
       "      <td>389</td>\n",
       "      <td>222</td>\n",
       "      <td>4</td>\n",
       "    </tr>\n",
       "  </tbody>\n",
       "</table>\n",
       "</div>"
      ],
      "text/plain": [
       "                   Datetime             Tweet Id  \\\n",
       "0 2021-12-19 23:58:11+00:00  1472717932916576259   \n",
       "1 2021-12-19 23:11:11+00:00  1472706104991879171   \n",
       "2 2021-12-19 22:26:06+00:00  1472694757277122561   \n",
       "3 2021-12-19 22:01:06+00:00  1472688467083681794   \n",
       "4 2021-12-19 21:30:03+00:00  1472680653858787330   \n",
       "5 2021-12-19 21:19:10+00:00  1472677916039331849   \n",
       "6 2021-12-19 19:01:43+00:00  1472643323487731721   \n",
       "7 2021-12-19 18:29:19+00:00  1472635169161060356   \n",
       "\n",
       "                                                Text        Username  Likes  \\\n",
       "0  Keep up the good work Elon @elonmusk ⚒️🔥 Show ...  DogecoinNorway    611   \n",
       "1                   #Dogecoin will make millionaires     itsALLrisky    809   \n",
       "2        Wow #Dogecoin $DOGE https://t.co/AAqCvTnmUF     itsALLrisky    698   \n",
       "3  Dogebonk #DOBO has beaten #ElonMusk to achieve...      BMcGleenon    656   \n",
       "4  @elonmusk The most important thing to teach ki...  MattWallace888    622   \n",
       "5  Are any of my followers actual real people tha...          usssks    665   \n",
       "6  The market capitalization of meme-based digita...           BTCTN   1110   \n",
       "7  HODL Starting To Trend!! LET’S MAKE IT GO CRAZ...  MattWallace888   1789   \n",
       "\n",
       "   Retweet  Reply  Quote  \n",
       "0      101     38      6  \n",
       "1      109     81      6  \n",
       "2      109     54      6  \n",
       "3      269    239     26  \n",
       "4       57    131      3  \n",
       "5       63    124      7  \n",
       "6      288    246     13  \n",
       "7      389    222      4  "
      ]
     },
     "execution_count": 62,
     "metadata": {},
     "output_type": "execute_result"
    }
   ],
   "source": [
    "dataframe"
   ]
  },
  {
   "cell_type": "code",
   "execution_count": 13,
   "id": "47ede119-ebc7-4277-9b37-71c765850c44",
   "metadata": {},
   "outputs": [
    {
     "data": {
      "text/html": [
       "<div>\n",
       "<style scoped>\n",
       "    .dataframe tbody tr th:only-of-type {\n",
       "        vertical-align: middle;\n",
       "    }\n",
       "\n",
       "    .dataframe tbody tr th {\n",
       "        vertical-align: top;\n",
       "    }\n",
       "\n",
       "    .dataframe thead th {\n",
       "        text-align: right;\n",
       "    }\n",
       "</style>\n",
       "<table border=\"1\" class=\"dataframe\">\n",
       "  <thead>\n",
       "    <tr style=\"text-align: right;\">\n",
       "      <th></th>\n",
       "      <th>Datetime</th>\n",
       "      <th>Tweet Id</th>\n",
       "      <th>Text</th>\n",
       "      <th>Username</th>\n",
       "      <th>Likes</th>\n",
       "      <th>Retweet</th>\n",
       "      <th>Reply</th>\n",
       "      <th>Quote</th>\n",
       "    </tr>\n",
       "  </thead>\n",
       "  <tbody>\n",
       "    <tr>\n",
       "      <th>0</th>\n",
       "      <td>2021-12-19 23:58:11+00:00</td>\n",
       "      <td>1472717932916576259</td>\n",
       "      <td>Keep up the good work Elon @elonmusk ⚒️🔥 Show ...</td>\n",
       "      <td>DogecoinNorway</td>\n",
       "      <td>611</td>\n",
       "      <td>101</td>\n",
       "      <td>38</td>\n",
       "      <td>6</td>\n",
       "    </tr>\n",
       "    <tr>\n",
       "      <th>1</th>\n",
       "      <td>2021-12-19 23:36:20+00:00</td>\n",
       "      <td>1472712433869279232</td>\n",
       "      <td>Congrats on 900k followers @BillyM2k! (Billy c...</td>\n",
       "      <td>itsALLrisky</td>\n",
       "      <td>313</td>\n",
       "      <td>48</td>\n",
       "      <td>19</td>\n",
       "      <td>1</td>\n",
       "    </tr>\n",
       "    <tr>\n",
       "      <th>2</th>\n",
       "      <td>2021-12-19 23:11:11+00:00</td>\n",
       "      <td>1472706104991879171</td>\n",
       "      <td>#Dogecoin will make millionaires</td>\n",
       "      <td>itsALLrisky</td>\n",
       "      <td>809</td>\n",
       "      <td>109</td>\n",
       "      <td>81</td>\n",
       "      <td>6</td>\n",
       "    </tr>\n",
       "    <tr>\n",
       "      <th>3</th>\n",
       "      <td>2021-12-19 23:08:01+00:00</td>\n",
       "      <td>1472705306182492164</td>\n",
       "      <td>Congratulations to #DogeBonk for becoming the ...</td>\n",
       "      <td>kcsdaily</td>\n",
       "      <td>431</td>\n",
       "      <td>224</td>\n",
       "      <td>96</td>\n",
       "      <td>12</td>\n",
       "    </tr>\n",
       "    <tr>\n",
       "      <th>4</th>\n",
       "      <td>2021-12-19 22:40:10+00:00</td>\n",
       "      <td>1472698297521348614</td>\n",
       "      <td>#SORRYELON WE MADE IT TO OUTER SPACE BEFORE #D...</td>\n",
       "      <td>bonktovi</td>\n",
       "      <td>107</td>\n",
       "      <td>43</td>\n",
       "      <td>8</td>\n",
       "      <td>1</td>\n",
       "    </tr>\n",
       "    <tr>\n",
       "      <th>...</th>\n",
       "      <td>...</td>\n",
       "      <td>...</td>\n",
       "      <td>...</td>\n",
       "      <td>...</td>\n",
       "      <td>...</td>\n",
       "      <td>...</td>\n",
       "      <td>...</td>\n",
       "      <td>...</td>\n",
       "    </tr>\n",
       "    <tr>\n",
       "      <th>97</th>\n",
       "      <td>2021-12-18 18:45:35+00:00</td>\n",
       "      <td>1472276874437054464</td>\n",
       "      <td>#dogecoin will recover!</td>\n",
       "      <td>MYLESGINVEST</td>\n",
       "      <td>195</td>\n",
       "      <td>21</td>\n",
       "      <td>21</td>\n",
       "      <td>0</td>\n",
       "    </tr>\n",
       "    <tr>\n",
       "      <th>98</th>\n",
       "      <td>2021-12-18 18:37:02+00:00</td>\n",
       "      <td>1472274722968670208</td>\n",
       "      <td>I’m holding  #dogecoin ,doge father will take ...</td>\n",
       "      <td>Adogeworld</td>\n",
       "      <td>215</td>\n",
       "      <td>57</td>\n",
       "      <td>39</td>\n",
       "      <td>2</td>\n",
       "    </tr>\n",
       "    <tr>\n",
       "      <th>99</th>\n",
       "      <td>2021-12-18 18:10:46+00:00</td>\n",
       "      <td>1472268113316139020</td>\n",
       "      <td>Diamond hands are going to the moon when #Doge...</td>\n",
       "      <td>DianaKFletcher</td>\n",
       "      <td>913</td>\n",
       "      <td>136</td>\n",
       "      <td>158</td>\n",
       "      <td>4</td>\n",
       "    </tr>\n",
       "    <tr>\n",
       "      <th>100</th>\n",
       "      <td>2021-12-18 18:10:06+00:00</td>\n",
       "      <td>1472267947662282752</td>\n",
       "      <td>I found this #dogecoin 🥇✋🏼💎🤚🏼 https://t.co/V1H...</td>\n",
       "      <td>dogesuppporteam</td>\n",
       "      <td>180</td>\n",
       "      <td>41</td>\n",
       "      <td>28</td>\n",
       "      <td>2</td>\n",
       "    </tr>\n",
       "    <tr>\n",
       "      <th>101</th>\n",
       "      <td>2021-12-18 18:08:57+00:00</td>\n",
       "      <td>1472267658837905412</td>\n",
       "      <td>#doge #dogecoin https://t.co/3gYUehSx2c</td>\n",
       "      <td>Charlie99237183</td>\n",
       "      <td>183</td>\n",
       "      <td>24</td>\n",
       "      <td>8</td>\n",
       "      <td>1</td>\n",
       "    </tr>\n",
       "  </tbody>\n",
       "</table>\n",
       "<p>102 rows × 8 columns</p>\n",
       "</div>"
      ],
      "text/plain": [
       "                     Datetime             Tweet Id  \\\n",
       "0   2021-12-19 23:58:11+00:00  1472717932916576259   \n",
       "1   2021-12-19 23:36:20+00:00  1472712433869279232   \n",
       "2   2021-12-19 23:11:11+00:00  1472706104991879171   \n",
       "3   2021-12-19 23:08:01+00:00  1472705306182492164   \n",
       "4   2021-12-19 22:40:10+00:00  1472698297521348614   \n",
       "..                        ...                  ...   \n",
       "97  2021-12-18 18:45:35+00:00  1472276874437054464   \n",
       "98  2021-12-18 18:37:02+00:00  1472274722968670208   \n",
       "99  2021-12-18 18:10:46+00:00  1472268113316139020   \n",
       "100 2021-12-18 18:10:06+00:00  1472267947662282752   \n",
       "101 2021-12-18 18:08:57+00:00  1472267658837905412   \n",
       "\n",
       "                                                  Text         Username  \\\n",
       "0    Keep up the good work Elon @elonmusk ⚒️🔥 Show ...   DogecoinNorway   \n",
       "1    Congrats on 900k followers @BillyM2k! (Billy c...      itsALLrisky   \n",
       "2                     #Dogecoin will make millionaires      itsALLrisky   \n",
       "3    Congratulations to #DogeBonk for becoming the ...         kcsdaily   \n",
       "4    #SORRYELON WE MADE IT TO OUTER SPACE BEFORE #D...         bonktovi   \n",
       "..                                                 ...              ...   \n",
       "97                             #dogecoin will recover!     MYLESGINVEST   \n",
       "98   I’m holding  #dogecoin ,doge father will take ...       Adogeworld   \n",
       "99   Diamond hands are going to the moon when #Doge...   DianaKFletcher   \n",
       "100  I found this #dogecoin 🥇✋🏼💎🤚🏼 https://t.co/V1H...  dogesuppporteam   \n",
       "101            #doge #dogecoin https://t.co/3gYUehSx2c  Charlie99237183   \n",
       "\n",
       "     Likes  Retweet  Reply  Quote  \n",
       "0      611      101     38      6  \n",
       "1      313       48     19      1  \n",
       "2      809      109     81      6  \n",
       "3      431      224     96     12  \n",
       "4      107       43      8      1  \n",
       "..     ...      ...    ...    ...  \n",
       "97     195       21     21      0  \n",
       "98     215       57     39      2  \n",
       "99     913      136    158      4  \n",
       "100    180       41     28      2  \n",
       "101    183       24      8      1  \n",
       "\n",
       "[102 rows x 8 columns]"
      ]
     },
     "execution_count": 13,
     "metadata": {},
     "output_type": "execute_result"
    }
   ],
   "source": [
    "tweets_df2"
   ]
  },
  {
   "cell_type": "code",
   "execution_count": 14,
   "id": "0d706f1c-b620-4089-be52-5fd8422e353e",
   "metadata": {},
   "outputs": [
    {
     "data": {
      "text/html": [
       "<div>\n",
       "<style scoped>\n",
       "    .dataframe tbody tr th:only-of-type {\n",
       "        vertical-align: middle;\n",
       "    }\n",
       "\n",
       "    .dataframe tbody tr th {\n",
       "        vertical-align: top;\n",
       "    }\n",
       "\n",
       "    .dataframe thead th {\n",
       "        text-align: right;\n",
       "    }\n",
       "</style>\n",
       "<table border=\"1\" class=\"dataframe\">\n",
       "  <thead>\n",
       "    <tr style=\"text-align: right;\">\n",
       "      <th></th>\n",
       "      <th>Datetime</th>\n",
       "      <th>Tweet Id</th>\n",
       "      <th>Text</th>\n",
       "      <th>Username</th>\n",
       "      <th>Likes</th>\n",
       "      <th>Retweet</th>\n",
       "      <th>Reply</th>\n",
       "      <th>Quote</th>\n",
       "    </tr>\n",
       "  </thead>\n",
       "  <tbody>\n",
       "    <tr>\n",
       "      <th>0</th>\n",
       "      <td>2021-12-19 23:58:11+00:00</td>\n",
       "      <td>1472717932916576259</td>\n",
       "      <td>Keep up the good work Elon @elonmusk ⚒️🔥 Show ...</td>\n",
       "      <td>DogecoinNorway</td>\n",
       "      <td>611</td>\n",
       "      <td>101</td>\n",
       "      <td>38</td>\n",
       "      <td>6</td>\n",
       "    </tr>\n",
       "    <tr>\n",
       "      <th>1</th>\n",
       "      <td>2021-12-19 23:36:20+00:00</td>\n",
       "      <td>1472712433869279232</td>\n",
       "      <td>Congrats on 900k followers @BillyM2k! (Billy c...</td>\n",
       "      <td>itsALLrisky</td>\n",
       "      <td>313</td>\n",
       "      <td>48</td>\n",
       "      <td>19</td>\n",
       "      <td>1</td>\n",
       "    </tr>\n",
       "    <tr>\n",
       "      <th>2</th>\n",
       "      <td>2021-12-19 23:11:11+00:00</td>\n",
       "      <td>1472706104991879171</td>\n",
       "      <td>#Dogecoin will make millionaires</td>\n",
       "      <td>itsALLrisky</td>\n",
       "      <td>809</td>\n",
       "      <td>109</td>\n",
       "      <td>81</td>\n",
       "      <td>6</td>\n",
       "    </tr>\n",
       "    <tr>\n",
       "      <th>3</th>\n",
       "      <td>2021-12-19 23:08:01+00:00</td>\n",
       "      <td>1472705306182492164</td>\n",
       "      <td>Congratulations to #DogeBonk for becoming the ...</td>\n",
       "      <td>kcsdaily</td>\n",
       "      <td>431</td>\n",
       "      <td>224</td>\n",
       "      <td>96</td>\n",
       "      <td>12</td>\n",
       "    </tr>\n",
       "    <tr>\n",
       "      <th>4</th>\n",
       "      <td>2021-12-19 22:40:10+00:00</td>\n",
       "      <td>1472698297521348614</td>\n",
       "      <td>#SORRYELON WE MADE IT TO OUTER SPACE BEFORE #D...</td>\n",
       "      <td>bonktovi</td>\n",
       "      <td>107</td>\n",
       "      <td>43</td>\n",
       "      <td>8</td>\n",
       "      <td>1</td>\n",
       "    </tr>\n",
       "    <tr>\n",
       "      <th>...</th>\n",
       "      <td>...</td>\n",
       "      <td>...</td>\n",
       "      <td>...</td>\n",
       "      <td>...</td>\n",
       "      <td>...</td>\n",
       "      <td>...</td>\n",
       "      <td>...</td>\n",
       "      <td>...</td>\n",
       "    </tr>\n",
       "    <tr>\n",
       "      <th>170</th>\n",
       "      <td>2021-12-17 14:22:00+00:00</td>\n",
       "      <td>1471848154186268672</td>\n",
       "      <td>To The Moon And Beyond \\n#Dogecoin #DogecoinTo...</td>\n",
       "      <td>DogeMoon11</td>\n",
       "      <td>133</td>\n",
       "      <td>32</td>\n",
       "      <td>19</td>\n",
       "      <td>1</td>\n",
       "    </tr>\n",
       "    <tr>\n",
       "      <th>171</th>\n",
       "      <td>2021-12-17 14:00:12+00:00</td>\n",
       "      <td>1471842670083559438</td>\n",
       "      <td>Which one do you like the most? 🧐 \\n\\n#BabyTK ...</td>\n",
       "      <td>ShibaArchives</td>\n",
       "      <td>279</td>\n",
       "      <td>252</td>\n",
       "      <td>110</td>\n",
       "      <td>2</td>\n",
       "    </tr>\n",
       "    <tr>\n",
       "      <th>172</th>\n",
       "      <td>2021-12-17 13:54:29+00:00</td>\n",
       "      <td>1471841231315550215</td>\n",
       "      <td>My moms neighbors are bullish af!! \\n#dogearmy...</td>\n",
       "      <td>TheUnderDoge3</td>\n",
       "      <td>251</td>\n",
       "      <td>28</td>\n",
       "      <td>42</td>\n",
       "      <td>0</td>\n",
       "    </tr>\n",
       "    <tr>\n",
       "      <th>173</th>\n",
       "      <td>2021-12-17 13:01:08+00:00</td>\n",
       "      <td>1471827804811677701</td>\n",
       "      <td>Fate loves Irony 🐶 #dogecoin #doge #tesla @elo...</td>\n",
       "      <td>DogecoinNorway</td>\n",
       "      <td>124</td>\n",
       "      <td>39</td>\n",
       "      <td>14</td>\n",
       "      <td>0</td>\n",
       "    </tr>\n",
       "    <tr>\n",
       "      <th>174</th>\n",
       "      <td>2021-12-17 13:00:06+00:00</td>\n",
       "      <td>1471827544571666433</td>\n",
       "      <td>Where else can you transfer almost $1 Billion ...</td>\n",
       "      <td>WhaleStats</td>\n",
       "      <td>128</td>\n",
       "      <td>16</td>\n",
       "      <td>14</td>\n",
       "      <td>2</td>\n",
       "    </tr>\n",
       "  </tbody>\n",
       "</table>\n",
       "<p>175 rows × 8 columns</p>\n",
       "</div>"
      ],
      "text/plain": [
       "                     Datetime             Tweet Id  \\\n",
       "0   2021-12-19 23:58:11+00:00  1472717932916576259   \n",
       "1   2021-12-19 23:36:20+00:00  1472712433869279232   \n",
       "2   2021-12-19 23:11:11+00:00  1472706104991879171   \n",
       "3   2021-12-19 23:08:01+00:00  1472705306182492164   \n",
       "4   2021-12-19 22:40:10+00:00  1472698297521348614   \n",
       "..                        ...                  ...   \n",
       "170 2021-12-17 14:22:00+00:00  1471848154186268672   \n",
       "171 2021-12-17 14:00:12+00:00  1471842670083559438   \n",
       "172 2021-12-17 13:54:29+00:00  1471841231315550215   \n",
       "173 2021-12-17 13:01:08+00:00  1471827804811677701   \n",
       "174 2021-12-17 13:00:06+00:00  1471827544571666433   \n",
       "\n",
       "                                                  Text        Username  Likes  \\\n",
       "0    Keep up the good work Elon @elonmusk ⚒️🔥 Show ...  DogecoinNorway    611   \n",
       "1    Congrats on 900k followers @BillyM2k! (Billy c...     itsALLrisky    313   \n",
       "2                     #Dogecoin will make millionaires     itsALLrisky    809   \n",
       "3    Congratulations to #DogeBonk for becoming the ...        kcsdaily    431   \n",
       "4    #SORRYELON WE MADE IT TO OUTER SPACE BEFORE #D...        bonktovi    107   \n",
       "..                                                 ...             ...    ...   \n",
       "170  To The Moon And Beyond \\n#Dogecoin #DogecoinTo...      DogeMoon11    133   \n",
       "171  Which one do you like the most? 🧐 \\n\\n#BabyTK ...   ShibaArchives    279   \n",
       "172  My moms neighbors are bullish af!! \\n#dogearmy...   TheUnderDoge3    251   \n",
       "173  Fate loves Irony 🐶 #dogecoin #doge #tesla @elo...  DogecoinNorway    124   \n",
       "174  Where else can you transfer almost $1 Billion ...      WhaleStats    128   \n",
       "\n",
       "     Retweet  Reply  Quote  \n",
       "0        101     38      6  \n",
       "1         48     19      1  \n",
       "2        109     81      6  \n",
       "3        224     96     12  \n",
       "4         43      8      1  \n",
       "..       ...    ...    ...  \n",
       "170       32     19      1  \n",
       "171      252    110      2  \n",
       "172       28     42      0  \n",
       "173       39     14      0  \n",
       "174       16     14      2  \n",
       "\n",
       "[175 rows x 8 columns]"
      ]
     },
     "execution_count": 14,
     "metadata": {},
     "output_type": "execute_result"
    }
   ],
   "source": [
    "tweets_df3"
   ]
  },
  {
   "cell_type": "code",
   "execution_count": 6,
   "id": "c3a938b9-24af-4043-a991-b5c8ba8dc791",
   "metadata": {},
   "outputs": [
    {
     "ename": "KeyboardInterrupt",
     "evalue": "",
     "output_type": "error",
     "traceback": [
      "\u001b[1;31m---------------------------------------------------------------------------\u001b[0m",
      "\u001b[1;31mKeyboardInterrupt\u001b[0m                         Traceback (most recent call last)",
      "Input \u001b[1;32mIn [6]\u001b[0m, in \u001b[0;36m<cell line: 4>\u001b[1;34m()\u001b[0m\n\u001b[0;32m      1\u001b[0m tweets_list3 \u001b[38;5;241m=\u001b[39m []\n\u001b[0;32m      3\u001b[0m \u001b[38;5;66;03m# Scrapeando los tweets que contengan #doge, con since y until se le indica el período\u001b[39;00m\n\u001b[1;32m----> 4\u001b[0m \u001b[38;5;28;01mfor\u001b[39;00m i,tweet \u001b[38;5;129;01min\u001b[39;00m \u001b[38;5;28menumerate\u001b[39m(sntwitter\u001b[38;5;241m.\u001b[39mTwitterSearchScraper(\u001b[38;5;124m'\u001b[39m\u001b[38;5;124mfrom:elonmusk\u001b[39m\u001b[38;5;124m'\u001b[39m)\u001b[38;5;241m.\u001b[39mget_items()):\n\u001b[0;32m      5\u001b[0m     \u001b[38;5;28;01mif\u001b[39;00m tweet\u001b[38;5;241m.\u001b[39mlikeCount \u001b[38;5;241m>\u001b[39m \u001b[38;5;241m1000\u001b[39m:\n\u001b[0;32m      6\u001b[0m         tweets_list2\u001b[38;5;241m.\u001b[39mappend([tweet\u001b[38;5;241m.\u001b[39mdate, tweet\u001b[38;5;241m.\u001b[39mid, tweet\u001b[38;5;241m.\u001b[39mcontent, tweet\u001b[38;5;241m.\u001b[39muser\u001b[38;5;241m.\u001b[39musername, tweet\u001b[38;5;241m.\u001b[39mlikeCount, tweet\u001b[38;5;241m.\u001b[39mretweetCount, tweet\u001b[38;5;241m.\u001b[39mreplyCount, tweet\u001b[38;5;241m.\u001b[39mquoteCount ])\n",
      "File \u001b[1;32m~\\anaconda3\\envs\\PythonDS38\\lib\\site-packages\\snscrape\\modules\\twitter.py:680\u001b[0m, in \u001b[0;36mTwitterSearchScraper.get_items\u001b[1;34m(self)\u001b[0m\n\u001b[0;32m    677\u001b[0m \t\u001b[38;5;28;01mdel\u001b[39;00m params[\u001b[38;5;124m'\u001b[39m\u001b[38;5;124mtweet_search_mode\u001b[39m\u001b[38;5;124m'\u001b[39m]\n\u001b[0;32m    678\u001b[0m \t\u001b[38;5;28;01mdel\u001b[39;00m paginationParams[\u001b[38;5;124m'\u001b[39m\u001b[38;5;124mtweet_search_mode\u001b[39m\u001b[38;5;124m'\u001b[39m]\n\u001b[1;32m--> 680\u001b[0m \u001b[38;5;28;01mfor\u001b[39;00m obj \u001b[38;5;129;01min\u001b[39;00m \u001b[38;5;28mself\u001b[39m\u001b[38;5;241m.\u001b[39m_iter_api_data(\u001b[38;5;124m'\u001b[39m\u001b[38;5;124mhttps://api.twitter.com/2/search/adaptive.json\u001b[39m\u001b[38;5;124m'\u001b[39m, params, paginationParams, cursor \u001b[38;5;241m=\u001b[39m \u001b[38;5;28mself\u001b[39m\u001b[38;5;241m.\u001b[39m_cursor):\n\u001b[0;32m    681\u001b[0m \t\u001b[38;5;28;01myield from\u001b[39;00m \u001b[38;5;28mself\u001b[39m\u001b[38;5;241m.\u001b[39m_instructions_to_tweets(obj)\n",
      "File \u001b[1;32m~\\anaconda3\\envs\\PythonDS38\\lib\\site-packages\\snscrape\\modules\\twitter.py:369\u001b[0m, in \u001b[0;36m_TwitterAPIScraper._iter_api_data\u001b[1;34m(self, endpoint, params, paginationParams, cursor, direction)\u001b[0m\n\u001b[0;32m    367\u001b[0m \u001b[38;5;28;01mwhile\u001b[39;00m \u001b[38;5;28;01mTrue\u001b[39;00m:\n\u001b[0;32m    368\u001b[0m \t_logger\u001b[38;5;241m.\u001b[39minfo(\u001b[38;5;124mf\u001b[39m\u001b[38;5;124m'\u001b[39m\u001b[38;5;124mRetrieving scroll page \u001b[39m\u001b[38;5;132;01m{\u001b[39;00mcursor\u001b[38;5;132;01m}\u001b[39;00m\u001b[38;5;124m'\u001b[39m)\n\u001b[1;32m--> 369\u001b[0m \tobj \u001b[38;5;241m=\u001b[39m \u001b[38;5;28;43mself\u001b[39;49m\u001b[38;5;241;43m.\u001b[39;49m\u001b[43m_get_api_data\u001b[49m\u001b[43m(\u001b[49m\u001b[43mendpoint\u001b[49m\u001b[43m,\u001b[49m\u001b[43m \u001b[49m\u001b[43mreqParams\u001b[49m\u001b[43m)\u001b[49m\n\u001b[0;32m    370\u001b[0m \t\u001b[38;5;28;01myield\u001b[39;00m obj\n\u001b[0;32m    372\u001b[0m \t\u001b[38;5;66;03m# No data format test, just a hard and loud crash if anything's wrong :-)\u001b[39;00m\n",
      "File \u001b[1;32m~\\anaconda3\\envs\\PythonDS38\\lib\\site-packages\\snscrape\\modules\\twitter.py:339\u001b[0m, in \u001b[0;36m_TwitterAPIScraper._get_api_data\u001b[1;34m(self, endpoint, params)\u001b[0m\n\u001b[0;32m    337\u001b[0m \u001b[38;5;28;01mdef\u001b[39;00m \u001b[38;5;21m_get_api_data\u001b[39m(\u001b[38;5;28mself\u001b[39m, endpoint, params):\n\u001b[0;32m    338\u001b[0m \t\u001b[38;5;28mself\u001b[39m\u001b[38;5;241m.\u001b[39m_ensure_guest_token()\n\u001b[1;32m--> 339\u001b[0m \tr \u001b[38;5;241m=\u001b[39m \u001b[38;5;28;43mself\u001b[39;49m\u001b[38;5;241;43m.\u001b[39;49m\u001b[43m_get\u001b[49m\u001b[43m(\u001b[49m\u001b[43mendpoint\u001b[49m\u001b[43m,\u001b[49m\u001b[43m \u001b[49m\u001b[43mparams\u001b[49m\u001b[43m \u001b[49m\u001b[38;5;241;43m=\u001b[39;49m\u001b[43m \u001b[49m\u001b[43mparams\u001b[49m\u001b[43m,\u001b[49m\u001b[43m \u001b[49m\u001b[43mheaders\u001b[49m\u001b[43m \u001b[49m\u001b[38;5;241;43m=\u001b[39;49m\u001b[43m \u001b[49m\u001b[38;5;28;43mself\u001b[39;49m\u001b[38;5;241;43m.\u001b[39;49m\u001b[43m_apiHeaders\u001b[49m\u001b[43m,\u001b[49m\u001b[43m \u001b[49m\u001b[43mresponseOkCallback\u001b[49m\u001b[43m \u001b[49m\u001b[38;5;241;43m=\u001b[39;49m\u001b[43m \u001b[49m\u001b[38;5;28;43mself\u001b[39;49m\u001b[38;5;241;43m.\u001b[39;49m\u001b[43m_check_api_response\u001b[49m\u001b[43m)\u001b[49m\n\u001b[0;32m    340\u001b[0m \t\u001b[38;5;28;01mtry\u001b[39;00m:\n\u001b[0;32m    341\u001b[0m \t\tobj \u001b[38;5;241m=\u001b[39m r\u001b[38;5;241m.\u001b[39mjson()\n",
      "File \u001b[1;32m~\\anaconda3\\envs\\PythonDS38\\lib\\site-packages\\snscrape\\base.py:216\u001b[0m, in \u001b[0;36mScraper._get\u001b[1;34m(self, *args, **kwargs)\u001b[0m\n\u001b[0;32m    215\u001b[0m \u001b[38;5;28;01mdef\u001b[39;00m \u001b[38;5;21m_get\u001b[39m(\u001b[38;5;28mself\u001b[39m, \u001b[38;5;241m*\u001b[39margs, \u001b[38;5;241m*\u001b[39m\u001b[38;5;241m*\u001b[39mkwargs):\n\u001b[1;32m--> 216\u001b[0m \t\u001b[38;5;28;01mreturn\u001b[39;00m \u001b[38;5;28;43mself\u001b[39;49m\u001b[38;5;241;43m.\u001b[39;49m\u001b[43m_request\u001b[49m\u001b[43m(\u001b[49m\u001b[38;5;124;43m'\u001b[39;49m\u001b[38;5;124;43mGET\u001b[39;49m\u001b[38;5;124;43m'\u001b[39;49m\u001b[43m,\u001b[49m\u001b[43m \u001b[49m\u001b[38;5;241;43m*\u001b[39;49m\u001b[43margs\u001b[49m\u001b[43m,\u001b[49m\u001b[43m \u001b[49m\u001b[38;5;241;43m*\u001b[39;49m\u001b[38;5;241;43m*\u001b[39;49m\u001b[43mkwargs\u001b[49m\u001b[43m)\u001b[49m\n",
      "File \u001b[1;32m~\\anaconda3\\envs\\PythonDS38\\lib\\site-packages\\snscrape\\base.py:173\u001b[0m, in \u001b[0;36mScraper._request\u001b[1;34m(self, method, url, params, data, headers, timeout, responseOkCallback, allowRedirects)\u001b[0m\n\u001b[0;32m    171\u001b[0m \tlogger\u001b[38;5;241m.\u001b[39mdebug(\u001b[38;5;124mf\u001b[39m\u001b[38;5;124m'\u001b[39m\u001b[38;5;124m... with data: \u001b[39m\u001b[38;5;132;01m{\u001b[39;00mdata\u001b[38;5;132;01m!r}\u001b[39;00m\u001b[38;5;124m'\u001b[39m)\n\u001b[0;32m    172\u001b[0m \u001b[38;5;28;01mtry\u001b[39;00m:\n\u001b[1;32m--> 173\u001b[0m \tr \u001b[38;5;241m=\u001b[39m \u001b[38;5;28;43mself\u001b[39;49m\u001b[38;5;241;43m.\u001b[39;49m\u001b[43m_session\u001b[49m\u001b[38;5;241;43m.\u001b[39;49m\u001b[43msend\u001b[49m\u001b[43m(\u001b[49m\u001b[43mreq\u001b[49m\u001b[43m,\u001b[49m\u001b[43m \u001b[49m\u001b[43mallow_redirects\u001b[49m\u001b[43m \u001b[49m\u001b[38;5;241;43m=\u001b[39;49m\u001b[43m \u001b[49m\u001b[43mallowRedirects\u001b[49m\u001b[43m,\u001b[49m\u001b[43m \u001b[49m\u001b[43mtimeout\u001b[49m\u001b[43m \u001b[49m\u001b[38;5;241;43m=\u001b[39;49m\u001b[43m \u001b[49m\u001b[43mtimeout\u001b[49m\u001b[43m)\u001b[49m\n\u001b[0;32m    174\u001b[0m \u001b[38;5;28;01mexcept\u001b[39;00m requests\u001b[38;5;241m.\u001b[39mexceptions\u001b[38;5;241m.\u001b[39mRequestException \u001b[38;5;28;01mas\u001b[39;00m exc:\n\u001b[0;32m    175\u001b[0m \t\u001b[38;5;28;01mif\u001b[39;00m attempt \u001b[38;5;241m<\u001b[39m \u001b[38;5;28mself\u001b[39m\u001b[38;5;241m.\u001b[39m_retries:\n",
      "File \u001b[1;32m~\\anaconda3\\envs\\PythonDS38\\lib\\site-packages\\requests\\sessions.py:645\u001b[0m, in \u001b[0;36mSession.send\u001b[1;34m(self, request, **kwargs)\u001b[0m\n\u001b[0;32m    642\u001b[0m start \u001b[38;5;241m=\u001b[39m preferred_clock()\n\u001b[0;32m    644\u001b[0m \u001b[38;5;66;03m# Send the request\u001b[39;00m\n\u001b[1;32m--> 645\u001b[0m r \u001b[38;5;241m=\u001b[39m \u001b[43madapter\u001b[49m\u001b[38;5;241;43m.\u001b[39;49m\u001b[43msend\u001b[49m\u001b[43m(\u001b[49m\u001b[43mrequest\u001b[49m\u001b[43m,\u001b[49m\u001b[43m \u001b[49m\u001b[38;5;241;43m*\u001b[39;49m\u001b[38;5;241;43m*\u001b[39;49m\u001b[43mkwargs\u001b[49m\u001b[43m)\u001b[49m\n\u001b[0;32m    647\u001b[0m \u001b[38;5;66;03m# Total elapsed time of the request (approximately)\u001b[39;00m\n\u001b[0;32m    648\u001b[0m elapsed \u001b[38;5;241m=\u001b[39m preferred_clock() \u001b[38;5;241m-\u001b[39m start\n",
      "File \u001b[1;32m~\\anaconda3\\envs\\PythonDS38\\lib\\site-packages\\requests\\adapters.py:440\u001b[0m, in \u001b[0;36mHTTPAdapter.send\u001b[1;34m(self, request, stream, timeout, verify, cert, proxies)\u001b[0m\n\u001b[0;32m    438\u001b[0m \u001b[38;5;28;01mtry\u001b[39;00m:\n\u001b[0;32m    439\u001b[0m     \u001b[38;5;28;01mif\u001b[39;00m \u001b[38;5;129;01mnot\u001b[39;00m chunked:\n\u001b[1;32m--> 440\u001b[0m         resp \u001b[38;5;241m=\u001b[39m \u001b[43mconn\u001b[49m\u001b[38;5;241;43m.\u001b[39;49m\u001b[43murlopen\u001b[49m\u001b[43m(\u001b[49m\n\u001b[0;32m    441\u001b[0m \u001b[43m            \u001b[49m\u001b[43mmethod\u001b[49m\u001b[38;5;241;43m=\u001b[39;49m\u001b[43mrequest\u001b[49m\u001b[38;5;241;43m.\u001b[39;49m\u001b[43mmethod\u001b[49m\u001b[43m,\u001b[49m\n\u001b[0;32m    442\u001b[0m \u001b[43m            \u001b[49m\u001b[43murl\u001b[49m\u001b[38;5;241;43m=\u001b[39;49m\u001b[43murl\u001b[49m\u001b[43m,\u001b[49m\n\u001b[0;32m    443\u001b[0m \u001b[43m            \u001b[49m\u001b[43mbody\u001b[49m\u001b[38;5;241;43m=\u001b[39;49m\u001b[43mrequest\u001b[49m\u001b[38;5;241;43m.\u001b[39;49m\u001b[43mbody\u001b[49m\u001b[43m,\u001b[49m\n\u001b[0;32m    444\u001b[0m \u001b[43m            \u001b[49m\u001b[43mheaders\u001b[49m\u001b[38;5;241;43m=\u001b[39;49m\u001b[43mrequest\u001b[49m\u001b[38;5;241;43m.\u001b[39;49m\u001b[43mheaders\u001b[49m\u001b[43m,\u001b[49m\n\u001b[0;32m    445\u001b[0m \u001b[43m            \u001b[49m\u001b[43mredirect\u001b[49m\u001b[38;5;241;43m=\u001b[39;49m\u001b[38;5;28;43;01mFalse\u001b[39;49;00m\u001b[43m,\u001b[49m\n\u001b[0;32m    446\u001b[0m \u001b[43m            \u001b[49m\u001b[43massert_same_host\u001b[49m\u001b[38;5;241;43m=\u001b[39;49m\u001b[38;5;28;43;01mFalse\u001b[39;49;00m\u001b[43m,\u001b[49m\n\u001b[0;32m    447\u001b[0m \u001b[43m            \u001b[49m\u001b[43mpreload_content\u001b[49m\u001b[38;5;241;43m=\u001b[39;49m\u001b[38;5;28;43;01mFalse\u001b[39;49;00m\u001b[43m,\u001b[49m\n\u001b[0;32m    448\u001b[0m \u001b[43m            \u001b[49m\u001b[43mdecode_content\u001b[49m\u001b[38;5;241;43m=\u001b[39;49m\u001b[38;5;28;43;01mFalse\u001b[39;49;00m\u001b[43m,\u001b[49m\n\u001b[0;32m    449\u001b[0m \u001b[43m            \u001b[49m\u001b[43mretries\u001b[49m\u001b[38;5;241;43m=\u001b[39;49m\u001b[38;5;28;43mself\u001b[39;49m\u001b[38;5;241;43m.\u001b[39;49m\u001b[43mmax_retries\u001b[49m\u001b[43m,\u001b[49m\n\u001b[0;32m    450\u001b[0m \u001b[43m            \u001b[49m\u001b[43mtimeout\u001b[49m\u001b[38;5;241;43m=\u001b[39;49m\u001b[43mtimeout\u001b[49m\n\u001b[0;32m    451\u001b[0m \u001b[43m        \u001b[49m\u001b[43m)\u001b[49m\n\u001b[0;32m    453\u001b[0m     \u001b[38;5;66;03m# Send the request.\u001b[39;00m\n\u001b[0;32m    454\u001b[0m     \u001b[38;5;28;01melse\u001b[39;00m:\n\u001b[0;32m    455\u001b[0m         \u001b[38;5;28;01mif\u001b[39;00m \u001b[38;5;28mhasattr\u001b[39m(conn, \u001b[38;5;124m'\u001b[39m\u001b[38;5;124mproxy_pool\u001b[39m\u001b[38;5;124m'\u001b[39m):\n",
      "File \u001b[1;32m~\\anaconda3\\envs\\PythonDS38\\lib\\site-packages\\urllib3\\connectionpool.py:703\u001b[0m, in \u001b[0;36mHTTPConnectionPool.urlopen\u001b[1;34m(self, method, url, body, headers, retries, redirect, assert_same_host, timeout, pool_timeout, release_conn, chunked, body_pos, **response_kw)\u001b[0m\n\u001b[0;32m    700\u001b[0m     \u001b[38;5;28mself\u001b[39m\u001b[38;5;241m.\u001b[39m_prepare_proxy(conn)\n\u001b[0;32m    702\u001b[0m \u001b[38;5;66;03m# Make the request on the httplib connection object.\u001b[39;00m\n\u001b[1;32m--> 703\u001b[0m httplib_response \u001b[38;5;241m=\u001b[39m \u001b[38;5;28;43mself\u001b[39;49m\u001b[38;5;241;43m.\u001b[39;49m\u001b[43m_make_request\u001b[49m\u001b[43m(\u001b[49m\n\u001b[0;32m    704\u001b[0m \u001b[43m    \u001b[49m\u001b[43mconn\u001b[49m\u001b[43m,\u001b[49m\n\u001b[0;32m    705\u001b[0m \u001b[43m    \u001b[49m\u001b[43mmethod\u001b[49m\u001b[43m,\u001b[49m\n\u001b[0;32m    706\u001b[0m \u001b[43m    \u001b[49m\u001b[43murl\u001b[49m\u001b[43m,\u001b[49m\n\u001b[0;32m    707\u001b[0m \u001b[43m    \u001b[49m\u001b[43mtimeout\u001b[49m\u001b[38;5;241;43m=\u001b[39;49m\u001b[43mtimeout_obj\u001b[49m\u001b[43m,\u001b[49m\n\u001b[0;32m    708\u001b[0m \u001b[43m    \u001b[49m\u001b[43mbody\u001b[49m\u001b[38;5;241;43m=\u001b[39;49m\u001b[43mbody\u001b[49m\u001b[43m,\u001b[49m\n\u001b[0;32m    709\u001b[0m \u001b[43m    \u001b[49m\u001b[43mheaders\u001b[49m\u001b[38;5;241;43m=\u001b[39;49m\u001b[43mheaders\u001b[49m\u001b[43m,\u001b[49m\n\u001b[0;32m    710\u001b[0m \u001b[43m    \u001b[49m\u001b[43mchunked\u001b[49m\u001b[38;5;241;43m=\u001b[39;49m\u001b[43mchunked\u001b[49m\u001b[43m,\u001b[49m\n\u001b[0;32m    711\u001b[0m \u001b[43m\u001b[49m\u001b[43m)\u001b[49m\n\u001b[0;32m    713\u001b[0m \u001b[38;5;66;03m# If we're going to release the connection in ``finally:``, then\u001b[39;00m\n\u001b[0;32m    714\u001b[0m \u001b[38;5;66;03m# the response doesn't need to know about the connection. Otherwise\u001b[39;00m\n\u001b[0;32m    715\u001b[0m \u001b[38;5;66;03m# it will also try to release it and we'll have a double-release\u001b[39;00m\n\u001b[0;32m    716\u001b[0m \u001b[38;5;66;03m# mess.\u001b[39;00m\n\u001b[0;32m    717\u001b[0m response_conn \u001b[38;5;241m=\u001b[39m conn \u001b[38;5;28;01mif\u001b[39;00m \u001b[38;5;129;01mnot\u001b[39;00m release_conn \u001b[38;5;28;01melse\u001b[39;00m \u001b[38;5;28;01mNone\u001b[39;00m\n",
      "File \u001b[1;32m~\\anaconda3\\envs\\PythonDS38\\lib\\site-packages\\urllib3\\connectionpool.py:449\u001b[0m, in \u001b[0;36mHTTPConnectionPool._make_request\u001b[1;34m(self, conn, method, url, timeout, chunked, **httplib_request_kw)\u001b[0m\n\u001b[0;32m    444\u001b[0m             httplib_response \u001b[38;5;241m=\u001b[39m conn\u001b[38;5;241m.\u001b[39mgetresponse()\n\u001b[0;32m    445\u001b[0m         \u001b[38;5;28;01mexcept\u001b[39;00m \u001b[38;5;167;01mBaseException\u001b[39;00m \u001b[38;5;28;01mas\u001b[39;00m e:\n\u001b[0;32m    446\u001b[0m             \u001b[38;5;66;03m# Remove the TypeError from the exception chain in\u001b[39;00m\n\u001b[0;32m    447\u001b[0m             \u001b[38;5;66;03m# Python 3 (including for exceptions like SystemExit).\u001b[39;00m\n\u001b[0;32m    448\u001b[0m             \u001b[38;5;66;03m# Otherwise it looks like a bug in the code.\u001b[39;00m\n\u001b[1;32m--> 449\u001b[0m             \u001b[43msix\u001b[49m\u001b[38;5;241;43m.\u001b[39;49m\u001b[43mraise_from\u001b[49m\u001b[43m(\u001b[49m\u001b[43me\u001b[49m\u001b[43m,\u001b[49m\u001b[43m \u001b[49m\u001b[38;5;28;43;01mNone\u001b[39;49;00m\u001b[43m)\u001b[49m\n\u001b[0;32m    450\u001b[0m \u001b[38;5;28;01mexcept\u001b[39;00m (SocketTimeout, BaseSSLError, SocketError) \u001b[38;5;28;01mas\u001b[39;00m e:\n\u001b[0;32m    451\u001b[0m     \u001b[38;5;28mself\u001b[39m\u001b[38;5;241m.\u001b[39m_raise_timeout(err\u001b[38;5;241m=\u001b[39me, url\u001b[38;5;241m=\u001b[39murl, timeout_value\u001b[38;5;241m=\u001b[39mread_timeout)\n",
      "File \u001b[1;32m<string>:3\u001b[0m, in \u001b[0;36mraise_from\u001b[1;34m(value, from_value)\u001b[0m\n",
      "File \u001b[1;32m~\\anaconda3\\envs\\PythonDS38\\lib\\site-packages\\urllib3\\connectionpool.py:444\u001b[0m, in \u001b[0;36mHTTPConnectionPool._make_request\u001b[1;34m(self, conn, method, url, timeout, chunked, **httplib_request_kw)\u001b[0m\n\u001b[0;32m    441\u001b[0m \u001b[38;5;28;01mexcept\u001b[39;00m \u001b[38;5;167;01mTypeError\u001b[39;00m:\n\u001b[0;32m    442\u001b[0m     \u001b[38;5;66;03m# Python 3\u001b[39;00m\n\u001b[0;32m    443\u001b[0m     \u001b[38;5;28;01mtry\u001b[39;00m:\n\u001b[1;32m--> 444\u001b[0m         httplib_response \u001b[38;5;241m=\u001b[39m \u001b[43mconn\u001b[49m\u001b[38;5;241;43m.\u001b[39;49m\u001b[43mgetresponse\u001b[49m\u001b[43m(\u001b[49m\u001b[43m)\u001b[49m\n\u001b[0;32m    445\u001b[0m     \u001b[38;5;28;01mexcept\u001b[39;00m \u001b[38;5;167;01mBaseException\u001b[39;00m \u001b[38;5;28;01mas\u001b[39;00m e:\n\u001b[0;32m    446\u001b[0m         \u001b[38;5;66;03m# Remove the TypeError from the exception chain in\u001b[39;00m\n\u001b[0;32m    447\u001b[0m         \u001b[38;5;66;03m# Python 3 (including for exceptions like SystemExit).\u001b[39;00m\n\u001b[0;32m    448\u001b[0m         \u001b[38;5;66;03m# Otherwise it looks like a bug in the code.\u001b[39;00m\n\u001b[0;32m    449\u001b[0m         six\u001b[38;5;241m.\u001b[39mraise_from(e, \u001b[38;5;28;01mNone\u001b[39;00m)\n",
      "File \u001b[1;32m~\\anaconda3\\envs\\PythonDS38\\lib\\http\\client.py:1348\u001b[0m, in \u001b[0;36mHTTPConnection.getresponse\u001b[1;34m(self)\u001b[0m\n\u001b[0;32m   1346\u001b[0m \u001b[38;5;28;01mtry\u001b[39;00m:\n\u001b[0;32m   1347\u001b[0m     \u001b[38;5;28;01mtry\u001b[39;00m:\n\u001b[1;32m-> 1348\u001b[0m         \u001b[43mresponse\u001b[49m\u001b[38;5;241;43m.\u001b[39;49m\u001b[43mbegin\u001b[49m\u001b[43m(\u001b[49m\u001b[43m)\u001b[49m\n\u001b[0;32m   1349\u001b[0m     \u001b[38;5;28;01mexcept\u001b[39;00m \u001b[38;5;167;01mConnectionError\u001b[39;00m:\n\u001b[0;32m   1350\u001b[0m         \u001b[38;5;28mself\u001b[39m\u001b[38;5;241m.\u001b[39mclose()\n",
      "File \u001b[1;32m~\\anaconda3\\envs\\PythonDS38\\lib\\http\\client.py:316\u001b[0m, in \u001b[0;36mHTTPResponse.begin\u001b[1;34m(self)\u001b[0m\n\u001b[0;32m    314\u001b[0m \u001b[38;5;66;03m# read until we get a non-100 response\u001b[39;00m\n\u001b[0;32m    315\u001b[0m \u001b[38;5;28;01mwhile\u001b[39;00m \u001b[38;5;28;01mTrue\u001b[39;00m:\n\u001b[1;32m--> 316\u001b[0m     version, status, reason \u001b[38;5;241m=\u001b[39m \u001b[38;5;28;43mself\u001b[39;49m\u001b[38;5;241;43m.\u001b[39;49m\u001b[43m_read_status\u001b[49m\u001b[43m(\u001b[49m\u001b[43m)\u001b[49m\n\u001b[0;32m    317\u001b[0m     \u001b[38;5;28;01mif\u001b[39;00m status \u001b[38;5;241m!=\u001b[39m CONTINUE:\n\u001b[0;32m    318\u001b[0m         \u001b[38;5;28;01mbreak\u001b[39;00m\n",
      "File \u001b[1;32m~\\anaconda3\\envs\\PythonDS38\\lib\\http\\client.py:277\u001b[0m, in \u001b[0;36mHTTPResponse._read_status\u001b[1;34m(self)\u001b[0m\n\u001b[0;32m    276\u001b[0m \u001b[38;5;28;01mdef\u001b[39;00m \u001b[38;5;21m_read_status\u001b[39m(\u001b[38;5;28mself\u001b[39m):\n\u001b[1;32m--> 277\u001b[0m     line \u001b[38;5;241m=\u001b[39m \u001b[38;5;28mstr\u001b[39m(\u001b[38;5;28;43mself\u001b[39;49m\u001b[38;5;241;43m.\u001b[39;49m\u001b[43mfp\u001b[49m\u001b[38;5;241;43m.\u001b[39;49m\u001b[43mreadline\u001b[49m\u001b[43m(\u001b[49m\u001b[43m_MAXLINE\u001b[49m\u001b[43m \u001b[49m\u001b[38;5;241;43m+\u001b[39;49m\u001b[43m \u001b[49m\u001b[38;5;241;43m1\u001b[39;49m\u001b[43m)\u001b[49m, \u001b[38;5;124m\"\u001b[39m\u001b[38;5;124miso-8859-1\u001b[39m\u001b[38;5;124m\"\u001b[39m)\n\u001b[0;32m    278\u001b[0m     \u001b[38;5;28;01mif\u001b[39;00m \u001b[38;5;28mlen\u001b[39m(line) \u001b[38;5;241m>\u001b[39m _MAXLINE:\n\u001b[0;32m    279\u001b[0m         \u001b[38;5;28;01mraise\u001b[39;00m LineTooLong(\u001b[38;5;124m\"\u001b[39m\u001b[38;5;124mstatus line\u001b[39m\u001b[38;5;124m\"\u001b[39m)\n",
      "File \u001b[1;32m~\\anaconda3\\envs\\PythonDS38\\lib\\socket.py:669\u001b[0m, in \u001b[0;36mSocketIO.readinto\u001b[1;34m(self, b)\u001b[0m\n\u001b[0;32m    667\u001b[0m \u001b[38;5;28;01mwhile\u001b[39;00m \u001b[38;5;28;01mTrue\u001b[39;00m:\n\u001b[0;32m    668\u001b[0m     \u001b[38;5;28;01mtry\u001b[39;00m:\n\u001b[1;32m--> 669\u001b[0m         \u001b[38;5;28;01mreturn\u001b[39;00m \u001b[38;5;28;43mself\u001b[39;49m\u001b[38;5;241;43m.\u001b[39;49m\u001b[43m_sock\u001b[49m\u001b[38;5;241;43m.\u001b[39;49m\u001b[43mrecv_into\u001b[49m\u001b[43m(\u001b[49m\u001b[43mb\u001b[49m\u001b[43m)\u001b[49m\n\u001b[0;32m    670\u001b[0m     \u001b[38;5;28;01mexcept\u001b[39;00m timeout:\n\u001b[0;32m    671\u001b[0m         \u001b[38;5;28mself\u001b[39m\u001b[38;5;241m.\u001b[39m_timeout_occurred \u001b[38;5;241m=\u001b[39m \u001b[38;5;28;01mTrue\u001b[39;00m\n",
      "File \u001b[1;32m~\\anaconda3\\envs\\PythonDS38\\lib\\ssl.py:1241\u001b[0m, in \u001b[0;36mSSLSocket.recv_into\u001b[1;34m(self, buffer, nbytes, flags)\u001b[0m\n\u001b[0;32m   1237\u001b[0m     \u001b[38;5;28;01mif\u001b[39;00m flags \u001b[38;5;241m!=\u001b[39m \u001b[38;5;241m0\u001b[39m:\n\u001b[0;32m   1238\u001b[0m         \u001b[38;5;28;01mraise\u001b[39;00m \u001b[38;5;167;01mValueError\u001b[39;00m(\n\u001b[0;32m   1239\u001b[0m           \u001b[38;5;124m\"\u001b[39m\u001b[38;5;124mnon-zero flags not allowed in calls to recv_into() on \u001b[39m\u001b[38;5;132;01m%s\u001b[39;00m\u001b[38;5;124m\"\u001b[39m \u001b[38;5;241m%\u001b[39m\n\u001b[0;32m   1240\u001b[0m           \u001b[38;5;28mself\u001b[39m\u001b[38;5;241m.\u001b[39m\u001b[38;5;18m__class__\u001b[39m)\n\u001b[1;32m-> 1241\u001b[0m     \u001b[38;5;28;01mreturn\u001b[39;00m \u001b[38;5;28;43mself\u001b[39;49m\u001b[38;5;241;43m.\u001b[39;49m\u001b[43mread\u001b[49m\u001b[43m(\u001b[49m\u001b[43mnbytes\u001b[49m\u001b[43m,\u001b[49m\u001b[43m \u001b[49m\u001b[43mbuffer\u001b[49m\u001b[43m)\u001b[49m\n\u001b[0;32m   1242\u001b[0m \u001b[38;5;28;01melse\u001b[39;00m:\n\u001b[0;32m   1243\u001b[0m     \u001b[38;5;28;01mreturn\u001b[39;00m \u001b[38;5;28msuper\u001b[39m()\u001b[38;5;241m.\u001b[39mrecv_into(buffer, nbytes, flags)\n",
      "File \u001b[1;32m~\\anaconda3\\envs\\PythonDS38\\lib\\ssl.py:1099\u001b[0m, in \u001b[0;36mSSLSocket.read\u001b[1;34m(self, len, buffer)\u001b[0m\n\u001b[0;32m   1097\u001b[0m \u001b[38;5;28;01mtry\u001b[39;00m:\n\u001b[0;32m   1098\u001b[0m     \u001b[38;5;28;01mif\u001b[39;00m buffer \u001b[38;5;129;01mis\u001b[39;00m \u001b[38;5;129;01mnot\u001b[39;00m \u001b[38;5;28;01mNone\u001b[39;00m:\n\u001b[1;32m-> 1099\u001b[0m         \u001b[38;5;28;01mreturn\u001b[39;00m \u001b[38;5;28;43mself\u001b[39;49m\u001b[38;5;241;43m.\u001b[39;49m\u001b[43m_sslobj\u001b[49m\u001b[38;5;241;43m.\u001b[39;49m\u001b[43mread\u001b[49m\u001b[43m(\u001b[49m\u001b[38;5;28;43mlen\u001b[39;49m\u001b[43m,\u001b[49m\u001b[43m \u001b[49m\u001b[43mbuffer\u001b[49m\u001b[43m)\u001b[49m\n\u001b[0;32m   1100\u001b[0m     \u001b[38;5;28;01melse\u001b[39;00m:\n\u001b[0;32m   1101\u001b[0m         \u001b[38;5;28;01mreturn\u001b[39;00m \u001b[38;5;28mself\u001b[39m\u001b[38;5;241m.\u001b[39m_sslobj\u001b[38;5;241m.\u001b[39mread(\u001b[38;5;28mlen\u001b[39m)\n",
      "\u001b[1;31mKeyboardInterrupt\u001b[0m: "
     ]
    }
   ],
   "source": [
    "tweets_list3 = []\n",
    "\n",
    "# Scrapeando los tweets que contengan #doge, con since y until se le indica el período\n",
    "for i,tweet in enumerate(sntwitter.TwitterSearchScraper('from:elonmusk').get_items()):\n",
    "    if tweet.likeCount > 1000:\n",
    "        tweets_list2.append([tweet.date, tweet.id, tweet.content, tweet.user.username, tweet.likeCount, tweet.retweetCount, tweet.replyCount, tweet.quoteCount ])\n",
    "    if i>20000:\n",
    "        break\n",
    "        \n",
    "tweets_df3 = pd.DataFrame(tweets_list2, columns=['Datetime', 'Tweet Id', 'Text', 'Username', 'Likes','Retweet','Reply','Quote'])"
   ]
  },
  {
   "cell_type": "code",
   "execution_count": null,
   "id": "afa1f2a1-65a2-47e4-9b85-c79268443a67",
   "metadata": {},
   "outputs": [],
   "source": [
    "tweets_df3"
   ]
  },
  {
   "cell_type": "code",
   "execution_count": 72,
   "id": "7c5fd90a-0ace-490f-ab28-1ec32a6f89d6",
   "metadata": {},
   "outputs": [],
   "source": [
    "l=[]\n",
    "for i,t in enumerate(tweets_df3.Text):\n",
    "    if(t.find('#Dogecoin')!=-1):\n",
    "        l.append([i,t])\n",
    "elon_df = pd.DataFrame(l, columns=['Index','Text'])"
   ]
  },
  {
   "cell_type": "code",
   "execution_count": 75,
   "id": "a10e2bc4-6fce-4f04-b42c-c67e1250702d",
   "metadata": {},
   "outputs": [
    {
     "data": {
      "text/html": [
       "<div>\n",
       "<style scoped>\n",
       "    .dataframe tbody tr th:only-of-type {\n",
       "        vertical-align: middle;\n",
       "    }\n",
       "\n",
       "    .dataframe tbody tr th {\n",
       "        vertical-align: top;\n",
       "    }\n",
       "\n",
       "    .dataframe thead th {\n",
       "        text-align: right;\n",
       "    }\n",
       "</style>\n",
       "<table border=\"1\" class=\"dataframe\">\n",
       "  <thead>\n",
       "    <tr style=\"text-align: right;\">\n",
       "      <th></th>\n",
       "      <th>Index</th>\n",
       "      <th>Text</th>\n",
       "    </tr>\n",
       "  </thead>\n",
       "  <tbody>\n",
       "    <tr>\n",
       "      <th>0</th>\n",
       "      <td>0</td>\n",
       "      <td>The market capitalization of meme-based digita...</td>\n",
       "    </tr>\n",
       "    <tr>\n",
       "      <th>1</th>\n",
       "      <td>1</td>\n",
       "      <td>HODL Starting To Trend!! LET’S MAKE IT GO CRAZ...</td>\n",
       "    </tr>\n",
       "    <tr>\n",
       "      <th>2</th>\n",
       "      <td>2</td>\n",
       "      <td>Which of these will happen first in 2022? \\n\\n...</td>\n",
       "    </tr>\n",
       "    <tr>\n",
       "      <th>3</th>\n",
       "      <td>3</td>\n",
       "      <td>On this day one year ago\\n\\n1 #Bitcoin: $23,13...</td>\n",
       "    </tr>\n",
       "    <tr>\n",
       "      <th>4</th>\n",
       "      <td>4</td>\n",
       "      <td>On this day one year ago,\\n\\n#Bitcoin: $23,132...</td>\n",
       "    </tr>\n",
       "  </tbody>\n",
       "</table>\n",
       "</div>"
      ],
      "text/plain": [
       "   Index                                               Text\n",
       "0      0  The market capitalization of meme-based digita...\n",
       "1      1  HODL Starting To Trend!! LET’S MAKE IT GO CRAZ...\n",
       "2      2  Which of these will happen first in 2022? \\n\\n...\n",
       "3      3  On this day one year ago\\n\\n1 #Bitcoin: $23,13...\n",
       "4      4  On this day one year ago,\\n\\n#Bitcoin: $23,132..."
      ]
     },
     "execution_count": 75,
     "metadata": {},
     "output_type": "execute_result"
    }
   ],
   "source": [
    "elon_df"
   ]
  },
  {
   "cell_type": "code",
   "execution_count": 76,
   "id": "b0a37cbb-1edc-4f55-9ff4-a8d38d39d2e2",
   "metadata": {},
   "outputs": [],
   "source": [
    "string = tweets_df3.loc[1000,\"Text\"]"
   ]
  },
  {
   "cell_type": "code",
   "execution_count": 77,
   "id": "a7c46584-28c1-421c-b65f-ec8028322043",
   "metadata": {},
   "outputs": [
    {
     "data": {
      "text/plain": [
       "False"
      ]
     },
     "execution_count": 77,
     "metadata": {},
     "output_type": "execute_result"
    }
   ],
   "source": [
    "string.find(\"#Dogecoin\")!=-1"
   ]
  },
  {
   "cell_type": "code",
   "execution_count": 52,
   "id": "d4288110-6c80-4877-9e0d-9870e7392629",
   "metadata": {},
   "outputs": [],
   "source": [
    "for i in elon_df.Text:\n",
    "    print(i)"
   ]
  },
  {
   "cell_type": "code",
   "execution_count": null,
   "id": "97ad2655",
   "metadata": {},
   "outputs": [],
   "source": [
    "%%time\n",
    "import snscrape.modules.twitter as sntwitter\n",
    "import pandas as pd\n",
    "\n",
    "# lista donde se guardaran los tweets y su info\n",
    "tweets_list2 = []\n",
    "\n",
    "# Scrapeando los tweets que contengan #doge, con since y until se le indica el período\n",
    "for i,tweet in enumerate(sntwitter.TwitterSearchScraper('#doge since:2021-05-31 until:2021-12-20').get_items()):\n",
    "    if i>500000:\n",
    "        break\n",
    "# Con append agrego en cada iteracion el tweet y sus metricas a la lista\n",
    "    tweets_list2.append([tweet.date, tweet.id, tweet.content, tweet.user.username, tweet.likeCount, tweet.retweetCount, tweet.replyCount, tweet.quoteCount])\n",
    "    \n",
    "# Creo el DataFrame respetando el orden en el que se guardo cada campo en la lista anterior\n",
    "tweets_df2 = pd.DataFrame(tweets_list2, columns=['Datetime', 'Tweet Id', 'Text', 'Username', 'Likes','Retweet','Reply','Quote'])\n",
    "tweets_df2.to_parquet(\"scrapped_tweets_future.parquet\")"
   ]
  },
  {
   "cell_type": "code",
   "execution_count": null,
   "id": "bb743c89",
   "metadata": {},
   "outputs": [],
   "source": [
    "%%time\n",
    "import snscrape.modules.twitter as sntwitter\n",
    "import pandas as pd\n",
    "\n",
    "# lista donde se guardaran los tweets y su info\n",
    "tweets_list2 = []\n",
    "\n",
    "# Scrapeando los tweets que contengan #doge, con since y until se le indica el período\n",
    "for i,tweet in enumerate(sntwitter.TwitterSearchScraper('#doge since:2021-05-31 until:2021-12-22').get_items()):\n",
    "    j = i+1\n",
    "    if j >=100:\n",
    "        tweets_df2.to_parquet(\"scrapped_tweets_future.parquet\")\n",
    "        j=0\n",
    "    tweets_list2.append([tweet.date, tweet.id, tweet.content, tweet.user.username, tweet.likeCount, tweet.retweetCount, tweet.replyCount, tweet.quoteCount])\n",
    "    tweets_df2 = pd.DataFrame(tweets_list2, columns=['Datetime', 'Tweet Id', 'Text', 'Username', 'Likes','Retweet','Reply','Quote'])\n",
    "            \n",
    "    if i>10000:\n",
    "         break\n",
    "               \n",
    "# Con append agrego en cada iteracion el tweet y sus metricas a la lista\n",
    "\n",
    "    \n",
    "    \n",
    "# Creo el DataFrame respetando el orden en el que se guardo cada campo en la lista anterior\n",
    "#tweets_df2 = pd.DataFrame(tweets_list2, columns=['Datetime', 'Tweet Id', 'Text', 'Username', 'Likes','Retweet','Reply','Quote'])"
   ]
  },
  {
   "cell_type": "code",
   "execution_count": null,
   "id": "3282552f",
   "metadata": {},
   "outputs": [],
   "source": [
    "#Muestro los tweets con mayor numero de likes\n",
    "tweets_df2.sort_values(by = 'Likes', ascending = False)"
   ]
  },
  {
   "cell_type": "code",
   "execution_count": null,
   "id": "688a88c0",
   "metadata": {},
   "outputs": [],
   "source": [
    "tweets_df2.head()"
   ]
  },
  {
   "cell_type": "code",
   "execution_count": null,
   "id": "44314aae",
   "metadata": {},
   "outputs": [],
   "source": [
    "tweets_df2.tail()"
   ]
  },
  {
   "cell_type": "code",
   "execution_count": null,
   "id": "80b1a081",
   "metadata": {},
   "outputs": [],
   "source": [
    "from datetime import datetime, timedelta\n",
    "\n"
   ]
  },
  {
   "cell_type": "code",
   "execution_count": null,
   "id": "07e64bea",
   "metadata": {},
   "outputs": [],
   "source": [
    "\n",
    "tweets_df2[\"Dates\"] = pd.to_datetime(tweets_df2['Datetime']).dt.time"
   ]
  },
  {
   "cell_type": "code",
   "execution_count": null,
   "id": "8f996d4e",
   "metadata": {},
   "outputs": [],
   "source": [
    "tweets_df2[\"Dates\"]"
   ]
  },
  {
   "cell_type": "code",
   "execution_count": null,
   "id": "96bc7030",
   "metadata": {},
   "outputs": [],
   "source": [
    "#last_date_index\n",
    "str(tweets_df2.loc[tweets_df2.index.stop-1,\"Dates\"])"
   ]
  },
  {
   "cell_type": "code",
   "execution_count": null,
   "id": "7d842e2f",
   "metadata": {},
   "outputs": [],
   "source": [
    "str(tweets_df2.loc[tweets_df2.index.stop-1,\"Tweet Id\"])"
   ]
  },
  {
   "cell_type": "code",
   "execution_count": null,
   "id": "6cd3225a",
   "metadata": {},
   "outputs": [],
   "source": [
    "#Creo el parquet\n",
    "tweets_df2.to_parquet('tweets.parquet')"
   ]
  },
  {
   "cell_type": "code",
   "execution_count": null,
   "id": "17039214",
   "metadata": {},
   "outputs": [],
   "source": [
    "tweets_df2.index.start"
   ]
  },
  {
   "cell_type": "code",
   "execution_count": null,
   "id": "b7f727c8",
   "metadata": {},
   "outputs": [],
   "source": [
    "def Generar_tweets_db(dataframe, cantidad_a_traer):\n",
    "    tweets_list2 = []\n",
    "    dataframe[\"Dates\"] = pd.to_datetime(dataframe['Datetime']).dt.date\n",
    "    last_date = str(dataframe.loc[dataframe.index.stop-1,\"Dates\"]+ timedelta(days = 1)) \n",
    "    first_id = str(dataframe.loc[dataframe.index.stop-1,\"Tweet Id\"])\n",
    "# Scrapeando los tweets que contengan #doge, con since y until se le indica el período\n",
    "    for i,tweet in enumerate(sntwitter.TwitterSearchScraper('#doge since:2021-01-01 until:'+last_date).get_items()):\n",
    "        if i>cantidad_a_traer:\n",
    "            break\n",
    "# Con append agrego en cada iteracion el tweet y sus metricas a la lista\n",
    "        tweets_list2.append([tweet.date, tweet.id, tweet.content, tweet.user.username, tweet.likeCount, tweet.retweetCount, tweet.replyCount, tweet.quoteCount])\n",
    "    \n",
    "# Creo el DataFrame respetando el orden en el que se guardo cada campo en la lista anterior\n",
    "    tweets_df2 = pd.DataFrame(tweets_list2, columns=['Datetime', 'Tweet Id', 'Text', 'Username', 'Likes','Retweet','Reply','Quote'])\n",
    "    tweets_df2.to_parquet(\"scrapped_tweets_{id_tweet}.parquet\".format(id_tweet = first_id))"
   ]
  },
  {
   "cell_type": "code",
   "execution_count": null,
   "id": "c7c59d94",
   "metadata": {},
   "outputs": [],
   "source": [
    "def Generar_tweets_db_2(dataframe, cantidad_a_traer):\n",
    "    tweets_list2 = []\n",
    "    dataframe[\"Dates\"] = pd.to_datetime(dataframe['Datetime']).dt.date\n",
    "    last_date = str(dataframe.loc[dataframe.index.stop-1,\"Dates\"]+ timedelta(days = 1)) \n",
    "    first_id = str(dataframe.loc[dataframe.index.stop-1,\"Tweet Id\"])\n",
    "# Scrapeando los tweets que contengan #doge, con since y until se le indica el período\n",
    "    for i,tweet in enumerate(sntwitter.TwitterSearchScraper('#doge since:2021-05-31 until:'+last_date).get_items()):\n",
    "        if i>cantidad_a_traer:\n",
    "            break\n",
    "# Con append agrego en cada iteracion el tweet y sus metricas a la lista\n",
    "        tweets_list2.append([tweet.date, tweet.id, tweet.content, tweet.user.username, tweet.likeCount, tweet.retweetCount, tweet.replyCount, tweet.quoteCount])\n",
    "    \n",
    "# Creo el DataFrame respetando el orden en el que se guardo cada campo en la lista anterior\n",
    "    tweets_df2 = pd.DataFrame(tweets_list2, columns=['Datetime', 'Tweet Id', 'Text', 'Username', 'Likes','Retweet','Reply','Quote'])\n",
    "    tweets_df2.to_parquet(\"scrapped_tweets_{id_tweet}.parquet\".format(id_tweet = first_id))"
   ]
  },
  {
   "cell_type": "code",
   "execution_count": null,
   "id": "5141b54c",
   "metadata": {},
   "outputs": [],
   "source": [
    "tweets_scrapeados = pd.read_parquet(\"scrapped_tweets.parquet\")"
   ]
  },
  {
   "cell_type": "code",
   "execution_count": null,
   "id": "ce35ed91",
   "metadata": {},
   "outputs": [],
   "source": [
    "tweets_scrapeados.head()"
   ]
  },
  {
   "cell_type": "code",
   "execution_count": null,
   "id": "7950cbca",
   "metadata": {},
   "outputs": [],
   "source": [
    "tweets_scrapeados.tail()"
   ]
  },
  {
   "cell_type": "code",
   "execution_count": null,
   "id": "28493049",
   "metadata": {},
   "outputs": [],
   "source": [
    "Generar_tweets_db(tweets_scrapeados, 10000)"
   ]
  },
  {
   "cell_type": "code",
   "execution_count": null,
   "id": "41758b89",
   "metadata": {},
   "outputs": [],
   "source": [
    "tweets_scrapeados2 = pd.read_parquet(\"scrapped_tweets_1398701696726011908.parquet\")"
   ]
  },
  {
   "cell_type": "code",
   "execution_count": null,
   "id": "a922d4ac",
   "metadata": {},
   "outputs": [],
   "source": [
    "tweets_scrapeados2.loc[tweets_scrapeados2.index.start,\"Dates\"]"
   ]
  },
  {
   "cell_type": "code",
   "execution_count": null,
   "id": "2d9ca55a",
   "metadata": {},
   "outputs": [],
   "source": []
  },
  {
   "cell_type": "code",
   "execution_count": null,
   "id": "d0de7308",
   "metadata": {},
   "outputs": [],
   "source": [
    "tweets_scrapeados2 = pd.read_parquet(\"scrapped_tweets_1398701696726011908.parquet\")"
   ]
  },
  {
   "cell_type": "code",
   "execution_count": null,
   "id": "2a7a456b",
   "metadata": {},
   "outputs": [],
   "source": [
    "Generar_tweets_db(tweets_scrapeados2, 10000)"
   ]
  },
  {
   "cell_type": "code",
   "execution_count": null,
   "id": "56feffa0",
   "metadata": {},
   "outputs": [],
   "source": [
    "tweets_scrapeados2.tail()"
   ]
  },
  {
   "cell_type": "code",
   "execution_count": null,
   "id": "7e90dc70",
   "metadata": {},
   "outputs": [],
   "source": [
    "tweets_scrapeados3 = pd.read_parquet(\"scrapped_tweets_1398346764692955136.parquet\")"
   ]
  },
  {
   "cell_type": "code",
   "execution_count": null,
   "id": "74d1ac85",
   "metadata": {},
   "outputs": [],
   "source": [
    "tweets_scrapeados3.head()"
   ]
  },
  {
   "cell_type": "code",
   "execution_count": null,
   "id": "b1e9338f",
   "metadata": {},
   "outputs": [],
   "source": [
    "tweets_scrapeados3.tail()"
   ]
  },
  {
   "cell_type": "code",
   "execution_count": null,
   "id": "d1102752",
   "metadata": {},
   "outputs": [],
   "source": [
    "%%time\n",
    "Generar_tweets_db(tweets_scrapeados3, 10000)"
   ]
  },
  {
   "cell_type": "code",
   "execution_count": null,
   "id": "96119b25",
   "metadata": {},
   "outputs": [],
   "source": [
    "tweets_scrapeados4 = pd.read_parquet(\"scrapped_tweets_1398119625838055426.parquet\")"
   ]
  },
  {
   "cell_type": "code",
   "execution_count": null,
   "id": "3fc54aa7",
   "metadata": {},
   "outputs": [],
   "source": [
    "tweets_scrapeados4.head()"
   ]
  },
  {
   "cell_type": "code",
   "execution_count": null,
   "id": "7a8c9eef",
   "metadata": {},
   "outputs": [],
   "source": [
    "tweets_scrapeados4.tail()"
   ]
  },
  {
   "cell_type": "code",
   "execution_count": null,
   "id": "e3c08ac5",
   "metadata": {},
   "outputs": [],
   "source": [
    "%%time\n",
    "Generar_tweets_db(tweets_scrapeados4, 500000)"
   ]
  },
  {
   "cell_type": "code",
   "execution_count": null,
   "id": "5d5a471b",
   "metadata": {},
   "outputs": [],
   "source": [
    "tweets_scrapeados4 = pd.read_parquet(\"scrapped_tweets_1398119963651579908.parquet\")"
   ]
  },
  {
   "cell_type": "code",
   "execution_count": null,
   "id": "e7e9376d",
   "metadata": {},
   "outputs": [],
   "source": [
    "tweets_scrapeados4.head()"
   ]
  },
  {
   "cell_type": "code",
   "execution_count": null,
   "id": "17a82933",
   "metadata": {},
   "outputs": [],
   "source": [
    "tweets_scrapeados4.tail()"
   ]
  },
  {
   "cell_type": "code",
   "execution_count": null,
   "id": "bf0c41b5",
   "metadata": {},
   "outputs": [],
   "source": [
    "Generar_tweets_db(tweets_scrapeados4, 500000)"
   ]
  },
  {
   "cell_type": "code",
   "execution_count": null,
   "id": "342a3190",
   "metadata": {},
   "outputs": [],
   "source": [
    "tweets_scrapeados5 = pd.read_parquet(\"scrapped_tweets_1389258164986650629.parquet\")\n"
   ]
  },
  {
   "cell_type": "code",
   "execution_count": null,
   "id": "5f241e2f",
   "metadata": {},
   "outputs": [],
   "source": [
    "tweets_scrapeados5.head()"
   ]
  },
  {
   "cell_type": "code",
   "execution_count": null,
   "id": "42509ad4",
   "metadata": {},
   "outputs": [],
   "source": [
    "tweets_scrapeados5.tail()"
   ]
  },
  {
   "cell_type": "code",
   "execution_count": null,
   "id": "636769e5",
   "metadata": {},
   "outputs": [],
   "source": [
    "Generar_tweets_db(tweets_scrapeados5, 500000)"
   ]
  },
  {
   "cell_type": "code",
   "execution_count": null,
   "id": "fce5bd17",
   "metadata": {},
   "outputs": [],
   "source": [
    "tweets_scrapeados6 = pd.read_parquet(\"scrapped_tweets_1368829591532503040.parquet\")"
   ]
  },
  {
   "cell_type": "code",
   "execution_count": null,
   "id": "af8f8d89",
   "metadata": {},
   "outputs": [],
   "source": [
    "tweets_scrapeados6.head()"
   ]
  },
  {
   "cell_type": "code",
   "execution_count": null,
   "id": "d1c95e4d",
   "metadata": {},
   "outputs": [],
   "source": [
    "tweets_scrapeados6.tail()"
   ]
  },
  {
   "cell_type": "code",
   "execution_count": null,
   "id": "0acc9581",
   "metadata": {},
   "outputs": [],
   "source": [
    "tweets_scrapeados7 = pd.read_parquet(\"scrapped_tweets_future.parquet\")"
   ]
  },
  {
   "cell_type": "code",
   "execution_count": null,
   "id": "eb36e60c",
   "metadata": {},
   "outputs": [],
   "source": [
    "tweets_scrapeados7.head()"
   ]
  },
  {
   "cell_type": "code",
   "execution_count": null,
   "id": "99d2b5c3",
   "metadata": {},
   "outputs": [],
   "source": [
    "tweets_scrapeados7.tail()"
   ]
  },
  {
   "cell_type": "code",
   "execution_count": null,
   "id": "1e52af3b",
   "metadata": {},
   "outputs": [],
   "source": [
    "Generar_tweets_db(tweets_scrapeados7, 500000)"
   ]
  },
  {
   "cell_type": "code",
   "execution_count": null,
   "id": "a4b2da47",
   "metadata": {},
   "outputs": [],
   "source": [
    "tweets_scrapeados7 = pd.read_parquet(\"scrapped_tweets_1447133836261957632.parquet\")"
   ]
  },
  {
   "cell_type": "code",
   "execution_count": null,
   "id": "8766e1fa",
   "metadata": {},
   "outputs": [],
   "source": [
    "tweets_scrapeados7.head()"
   ]
  },
  {
   "cell_type": "code",
   "execution_count": null,
   "id": "43b683ad",
   "metadata": {},
   "outputs": [],
   "source": [
    "tweets_scrapeados7.tail()"
   ]
  },
  {
   "cell_type": "code",
   "execution_count": null,
   "id": "c16cd257",
   "metadata": {},
   "outputs": [],
   "source": [
    "Generar_tweets_db(tweets_scrapeados7, 500000)"
   ]
  },
  {
   "cell_type": "code",
   "execution_count": null,
   "id": "eecef076",
   "metadata": {},
   "outputs": [],
   "source": [
    "tweets_scrapeados8 = pd.read_parquet(\"scrapped_tweets_1412704015494922240.parquet\")"
   ]
  },
  {
   "cell_type": "code",
   "execution_count": null,
   "id": "08406906",
   "metadata": {},
   "outputs": [],
   "source": [
    "tweets_scrapeados8.head()"
   ]
  },
  {
   "cell_type": "code",
   "execution_count": null,
   "id": "c586ed2a",
   "metadata": {},
   "outputs": [],
   "source": [
    "tweets_scrapeados8.tail()"
   ]
  },
  {
   "cell_type": "code",
   "execution_count": null,
   "id": "8df35ccc",
   "metadata": {},
   "outputs": [],
   "source": [
    "Generar_tweets_db(tweets_scrapeados8, 500000)"
   ]
  },
  {
   "cell_type": "code",
   "execution_count": null,
   "id": "2c603009",
   "metadata": {},
   "outputs": [],
   "source": [
    "tweets_scrapeados9 = pd.read_parquet(\"scrapped_tweets_1393317715587305472.parquet\")"
   ]
  },
  {
   "cell_type": "code",
   "execution_count": null,
   "id": "01c06efa",
   "metadata": {},
   "outputs": [],
   "source": [
    "tweets_scrapeados9.head()"
   ]
  },
  {
   "cell_type": "code",
   "execution_count": null,
   "id": "4a855862",
   "metadata": {},
   "outputs": [],
   "source": [
    "tweets_scrapeados9.tail()"
   ]
  },
  {
   "cell_type": "code",
   "execution_count": null,
   "id": "d663c9ba",
   "metadata": {},
   "outputs": [],
   "source": []
  }
 ],
 "metadata": {
  "kernelspec": {
   "display_name": "Python 3 (ipykernel)",
   "language": "python",
   "name": "python3"
  },
  "language_info": {
   "codemirror_mode": {
    "name": "ipython",
    "version": 3
   },
   "file_extension": ".py",
   "mimetype": "text/x-python",
   "name": "python",
   "nbconvert_exporter": "python",
   "pygments_lexer": "ipython3",
   "version": "3.9.12"
  }
 },
 "nbformat": 4,
 "nbformat_minor": 5
}
